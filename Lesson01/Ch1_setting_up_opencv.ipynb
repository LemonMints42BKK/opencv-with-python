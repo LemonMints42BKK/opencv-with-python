{
 "cells": [
  {
   "cell_type": "markdown",
   "id": "2bd48720",
   "metadata": {},
   "source": [
    "# 1\n",
    "# Setting Up OpenCV\n",
    "*******************\n",
    "\n",
    "> The following topics will be covered in this chapter:\n",
    ">* A theoretical introduction to the OpenCV library\n",
    ">* Installing Python OpenCV and other packages\n",
    ">* Running samples, documentation, help, and updates\n",
    ">* Python and OpenCV project structure\n",
    ">* First Python and OpenCV project"
   ]
  },
  {
   "cell_type": "markdown",
   "id": "48c20fa1-ad4a-4805-9cf0-7ffbf1feddb4",
   "metadata": {},
   "source": [
    "## Technical requirements\n",
    "\n",
    "- [X] Pyhton and OpenCV\n",
    "- [X] Some Python package: NumPy, Matplotlib,\n",
    "- [X] Git: GitHub\n",
    "- [ ] Jupyter Notebook/ Jupyter Lab"
   ]
  },
  {
   "cell_type": "markdown",
   "id": "672d9afe-db0e-48c9-a61f-abef70c80b31",
   "metadata": {},
   "source": [
    "## Hardware specifications\n",
    "The hardware specifications are as follows:\n",
    "- [X] 32-bit or 64-bit architecture\n",
    "- [X] 2+ GHz CPU\n",
    "- [X] 4 GB RAM\n",
    "- [X] At least 10 GB of hard disk space available"
   ]
  },
  {
   "cell_type": "markdown",
   "id": "f9869be8-3e14-4ba3-8ca6-e6e0caa084f7",
   "metadata": {},
   "source": [
    "## Understanding Python\n",
    "\n",
    "The popularity of Python has risen steadily over the past decade. This is because Python is a very important programming language in some of today's most exciting and challenging technologies. Artificial intelligence (AI), machine learning, neural networks, deep learning, Internet of Things (IoT), and robotics (among others) rely on Python.\n"
   ]
  },
  {
   "cell_type": "markdown",
   "id": "0e438220-9549-4424-b3f1-c538ce85e717",
   "metadata": {},
   "source": [
    "## Introducing OpenCV\n",
    "\n",
    "OpenCV is a C++ programming library, with real-time capabilities. As it is written in optimized C/C++, the library can profit from multi-core processing. A theoretical introduction about the OpenCV library is carried out in the next section."
   ]
  },
  {
   "cell_type": "markdown",
   "id": "10bf606f-a559-4cf9-8a6f-2a2527ad34e4",
   "metadata": {},
   "source": [
    "## Contextualizing the reader"
   ]
  },
  {
   "cell_type": "markdown",
   "id": "c9477898-97e5-4286-9e2f-366f5fdf82ae",
   "metadata": {},
   "source": [
    "* **AI** refers to a set of technologies that enable machines – computers or robotic systems – to process information in the same way humans would.\n",
    "* **Machine Learning** is the process of programming computers to learn from historical data to make predictions on new data. Machine learning is a sub-discipline of AI and refers to statistical techniques that machines use on the basis of learned interrelationships.\n",
    "* **Neural Networks** are computer models for machine learning that are based on the structure and functioning of the biological brain.\n",
    "* **Deep Learning** is a subset of machine learning that operates on large volumes of unstructured data, such as human speech, text, and images. A deep learning model is an artificial neural network that comprises multiple layers of mathematical computation on data, where results from one layer are fed as input into the next layer in order to classify the input data and/or make a prediction."
   ]
  },
  {
   "cell_type": "markdown",
   "id": "5e8bfbae-ac99-4846-8a65-a712fb58425b",
   "metadata": {},
   "source": [
    "![ai_ml_nn_dl_diagram](https://www.oreilly.com/api/v2/epubs/9781492036562/files/assets/aipb_0401.png)"
   ]
  },
  {
   "cell_type": "markdown",
   "id": "52e6ada1-b41b-4729-8aa5-a125040e1834",
   "metadata": {},
   "source": [
    "* **Computer vision** is an interdisciplinary field of Artificial Intelligence that aims to give computers and other devices with computing capabilities a high-level understanding from both digital images and videos, including functionality for acquiring, processing, and analyzing digital images. This is why computer vision is, partly, another sub-area of Artificial Intelligence, heavily relying on machine learning and deep learning algorithms to build computer vision applications."
   ]
  },
  {
   "cell_type": "markdown",
   "id": "e1ca094f-5917-4a41-95b6-a07806b055b5",
   "metadata": {},
   "source": [
    "  > Additionally, Computer vision is composed of several technologies working together—**Computer graphics, Image processing, Signal processing, Sensor technology, Mathematics**, or even **Physics**.\n",
    "  > \n",
    "  > ![computer_vision_diagram](https://miro.medium.com/v2/resize:fit:640/format:webp/0*HjmEoIQg404KWI_w.png)"
   ]
  },
  {
   "cell_type": "markdown",
   "id": "9c128bc2-c67a-4c06-ba6b-5f009a82a597",
   "metadata": {},
   "source": [
    "## OpenCV modules\n",
    "\n",
    "OpenCV modules are shortly described here:"
   ]
  },
  {
   "cell_type": "markdown",
   "id": "e2c42b4d-e04e-438f-afba-506e7918997f",
   "metadata": {
    "jp-MarkdownHeadingCollapsed": true
   },
   "source": [
    "* **core:** Core functionality. Core functionality is a module defining basic data\n",
    "structures and also basic functions used by all other modules in the library.\n",
    "* **imgproc:** Image processing. An image-processing module that includes image filtering, geometrical image transformations, color space conversion, and histograms.\n",
    "* **imgcodecs:** Image codecs. Image file reading and writing.\n",
    "* **videoio:** Video I/O. An interface to video capturing and video codecs.\n",
    "* **highgui:** High-level GUI. An interface to UI capabilities. It provides an interface to easily do the following:\n",
    "Create and manipulate windows that can display/show images\n",
    "Add trackbars to the windows, keyboard commands, and handle mouse events\n",
    "* **video:** Video analysis. A video-analysis module including background subtraction, motion estimation, and object-tracking algorithms.\n",
    "* **calib3d:** Camera calibration and 3D reconstruction. Camera calibration and 3D reconstruction covering basic multiple-view geometry algorithms, stereo correspondence algorithms, object pose estimation, both single and stereo camera calibration, and also 3D reconstruction.\n",
    "* **features2d:** 2D features framework. This module includes feature detectors, descriptors, and descriptor matchers.\n",
    "objdetect: Object detection. Detection of objects and instances of predefined classes (for example, faces, eyes, people, and cars).\n",
    "* **dnn:** Deep neural network (DNN) module. This module contains the following: API for new layers creation\n",
    "Set of built useful layers\n",
    "API to construct and modify neural networks from layers\n",
    "Functionality for loading serialized networks models from different deep learning frameworks\n",
    "* **ml:** Machine learning. The Machine Learning Library (MLL) is a set of classes and methods that can be used for classification, regression, and clustering purposes.\n",
    "* **flann:** Clustering and search in multi-dimensional spaces. Fast Library for Approximate Nearest Neighbors (FLANN) is a collection of algorithms that are highly suited for fast nearest-neighbor searches.\n",
    "* **photo:** Computational photography. This module provides some functions for computational photography.\n",
    "* **stitching:** Images stitching. This module implements a stitching pipeline that performs automatic panoramic image stitching.\n",
    "* **shape:** Shape distance and matching. Shape distance and matching module that can be used for shape matching, retrieval, or comparison.\n",
    "* **superres:** Super-resolution. This module contains a set of classes and methods that can be used for resolution enhancement.\n",
    "* **videostab:** Video stabilization. This module contains a set of classes and methods for video stabilization.\n",
    "* **viz:** 3D visualizer. This module is used to display widgets that provide several methods to interact with scenes and widgets."
   ]
  },
  {
   "cell_type": "markdown",
   "id": "71450ad6-88ad-4b35-8d5b-eb25f83081f5",
   "metadata": {},
   "source": [
    "## OpenCV applications\n",
    "OpenCV is being used for a very wide range of applications:"
   ]
  },
  {
   "cell_type": "markdown",
   "id": "f1e71c00-c4cd-4a1a-aa1a-ee217cdc0afc",
   "metadata": {},
   "source": [
    "* 2D and 3D feature toolkits \n",
    "* Street view image stitching \n",
    "* Egomotion estimation \n",
    "* Facial-recognition system \n",
    "* Gesture recognition \n",
    "* Human-computer interaction \n",
    "* Mobile robotics\n",
    "* Motion understanding\n",
    "* **Object identification**\n",
    "* Automated inspection and surveillance\n",
    "* **Segmentation and recognition**\n",
    "* Stereopsis stereo vision – depth perception from two cameras Medical image analysis\n",
    "* Structure from motion\n",
    "* Motion tracking\n",
    "* Augmented reality\n",
    "* Video/image search and retrieval\n",
    "* Robot and driverless car navigation and control\n",
    "* Driver drowsiness and distraction detection"
   ]
  },
  {
   "cell_type": "markdown",
   "id": "26d218be-ddde-4e4f-b07a-e9ae9e904626",
   "metadata": {},
   "source": [
    "## Testing the installation\n",
    "One way to test the installation is to execute an OpenCV Python script. In order to do it,\n",
    "you should have two files, *logo.png* and *test_opencv_installation.py*, in a specific\n",
    "folder:"
   ]
  },
  {
   "cell_type": "raw",
   "id": "cd15363b-0dbb-4734-9f25-719bcda02e12",
   "metadata": {},
   "source": [
    "\n",
    "python test_opencv_installation.py\n"
   ]
  },
  {
   "cell_type": "markdown",
   "id": "820b9eaf-5189-4219-80ae-268cb52030a8",
   "metadata": {},
   "source": [
    "## Packages for scientific computing, data science, machine learning, deep learning, and computer vision"
   ]
  },
  {
   "cell_type": "markdown",
   "id": "036876da-04ed-4511-9c7b-1fe9f8b45e25",
   "metadata": {},
   "source": [
    "* **NumPy** [http://www.numpy.org/](http://www.numpy.org/) provides support for large, multi-dimensional\n",
    "arrays. NumPy is a key library in computer vision because images can be\n",
    "represented as multi-dimensional arrays. Representing images as NumPy arrays\n",
    "has many advantages.\n",
    "* **OpenCV** [https://opencv.org/](https://opencv.org/) is an open source computer vision library.\n",
    "* **Scikit-image** [https://scikit-image.org/](https://scikit-image.org/) is a collection of algorithms for\n",
    "image processing. Images manipulated by scikit-image are simply NumPy\n",
    "arrays.\n",
    "* **Pillow** [https://pillow.readthedocs.io/](https://pillow.readthedocs.io/) is the friendly PIL fork by Alex Clark\n",
    "and contributors. The PIL adds image-processing capabilities to your Python\n",
    "interpreter.\n",
    "* **SimpleCV** [http://simplecv.org/](http://simplecv.org/) is a framework for computer vision that\n",
    "provides key functionalities to deal with image processing.\n",
    "* **Mahotas** [https://mahotas.readthedocs.io/](https://mahotas.readthedocs.io/) is a set of functions for image\n",
    "processing and computer vision in Python. It was originally designed for\n",
    "bioimage informatics. However, it is useful in other areas as well. It is completely\n",
    "based on numpy arrays as its datatype.\n",
    "* **Ilastik** [http://ilastik.org/](http://ilastik.org/) is a user-friendly and simple tool for interactive\n",
    "image segmentation, classification, and analysis.\n",
    "* **Scikit-learn** [(http://scikit-learn.org/)](http://scikit-learn.org/) is a machine learning library that\n",
    "features various classification, regression, and clustering algorithms.\n",
    "* **SciPy** [(https://www.scipy.org/)](https://www.scipy.org/) is a library for scientific and technical\n",
    "computing.\n",
    "* **NLTK** [(https://www.nltk.org/)](https://www.nltk.org/) is a suite of libraries and programs to work\n",
    "with human-language data.\n",
    "* **spaCy** [(https://spacy.io/)](https://spacy.io/) is an open-source software library for advanced\n",
    "natural language processing in Python.\n",
    "* **LibROSA** [(https://librosa.github.io/librosa/)](https://librosa.github.io/librosa/) is a library for both music\n",
    "and audio processing.\n",
    "* **Pandas** [(https://pandas.pydata.org/)](https://pandas.pydata.org/) is a library (built on top of NumPy) that\n",
    "provides high-level data computation tools and easy-to-use data structures.\n",
    "* **Matplotlib** [(https://matplotlib.org/)](https://matplotlib.org/) is a plotting library that produces\n",
    "publication-quality figures in a variety of formats.\n",
    "* **Seaborn** [(https://seaborn.pydata.org/) ](https://seaborn.pydata.org/) is a graphics library that is built on top\n",
    "of Matplotlib.\n",
    "* **Orange** [https://orange.biolab.si/) ](https://orange.biolab.si/) is an open source machine learning and\n",
    "data-visualization toolkit for novices and experts.\n",
    "* **PyBrain** [(http://pybrain.org/)](http://pybrain.org/) is a machine learning library that provides easy-\n",
    "to-use state-of-the-art algorithms for machine learning.\n",
    "* **Milk**  is a machine learning toolkit\n",
    "focused on supervised classification with several classifiers.\n",
    "* **TensorFlow** [(https://www.tensorflow.org/)](https://www.tensorflow.org/) is an open source machine\n",
    "learning and deep learning library.\n",
    "* **PyTorch** [(https://pytorch.org/)](https://pytorch.org/) is an open source machine learning and deep\n",
    "learning library.\n",
    "* **Theano**  is a library for fast\n",
    "mathematical expressions, evaluation, and computation, which has been\n",
    "compiled to run on both CPU and GPU architectures (a key point for deep\n",
    "learning)."
   ]
  }
 ],
 "metadata": {
  "kernelspec": {
   "display_name": "Python 3 (ipykernel)",
   "language": "python",
   "name": "python3"
  },
  "language_info": {
   "codemirror_mode": {
    "name": "ipython",
    "version": 3
   },
   "file_extension": ".py",
   "mimetype": "text/x-python",
   "name": "python",
   "nbconvert_exporter": "python",
   "pygments_lexer": "ipython3",
   "version": "3.10.12"
  }
 },
 "nbformat": 4,
 "nbformat_minor": 5
}

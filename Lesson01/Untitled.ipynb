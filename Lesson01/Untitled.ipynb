{
 "cells": [
  {
   "cell_type": "markdown",
   "id": "ce977113-b098-4078-85b1-d4d3ad2e65e4",
   "metadata": {},
   "source": [
    "If you're encountering a \"missing xcrun\" error message, it typically means that the Xcode Command Line Tools are not installed on your macOS system or are not properly configured.\n",
    "\n",
    "Here's how you can resolve the issue:"
   ]
  },
  {
   "cell_type": "markdown",
   "id": "c6e7d249-4e3d-473f-8c10-b7adbef0bbe5",
   "metadata": {},
   "source": [
    "1. **Install Xcode Command Line Tools:**\n",
    "   Open Terminal and run the following command:"
   ]
  },
  {
   "cell_type": "code",
   "execution_count": null,
   "id": "9757aad5-7a9f-401c-91a8-5109c4c452b2",
   "metadata": {},
   "outputs": [],
   "source": [
    "  xcode-select --install"
   ]
  },
  {
   "cell_type": "markdown",
   "id": "f1bfe02e-d76f-4a57-b5af-077027e566be",
   "metadata": {},
   "source": [
    "   This command will prompt you to install the Xcode Command Line Tools. Follow the on-screen instructions to complete the installation."
   ]
  },
  {
   "cell_type": "code",
   "execution_count": 5,
   "id": "760054ed-f42e-4adf-97a7-0212cb9b672d",
   "metadata": {},
   "outputs": [
    {
     "ename": "SyntaxError",
     "evalue": "invalid syntax (1689172261.py, line 1)",
     "output_type": "error",
     "traceback": [
      "\u001b[0;36m  Cell \u001b[0;32mIn[5], line 1\u001b[0;36m\u001b[0m\n\u001b[0;31m    2. 2.**Select Xcode Command Line Tools:**\u001b[0m\n\u001b[0m       ^\u001b[0m\n\u001b[0;31mSyntaxError\u001b[0m\u001b[0;31m:\u001b[0m invalid syntax\n"
     ]
    }
   ],
   "source": [
    "2. 2.**Select Xcode Command Line Tools:**\n",
    "   After the installation is complete, you may need to explicitly select the Xcode Command Line Tools. Run the following command:"
   ]
  },
  {
   "cell_type": "code",
   "execution_count": null,
   "id": "bb6c71f4-f9a3-408c-97db-7774e2142c75",
   "metadata": {},
   "outputs": [],
   "source": [
    "  sudo xcode-select -s /Applications/Xcode.app/Contents/Developer"
   ]
  },
  {
   "cell_type": "code",
   "execution_count": null,
   "id": "f3697ca9-daea-4710-938d-c9483102e82c",
   "metadata": {},
   "outputs": [],
   "source": []
  }
 ],
 "metadata": {
  "kernelspec": {
   "display_name": "Python 3 (ipykernel)",
   "language": "python",
   "name": "python3"
  },
  "language_info": {
   "codemirror_mode": {
    "name": "ipython",
    "version": 3
   },
   "file_extension": ".py",
   "mimetype": "text/x-python",
   "name": "python",
   "nbconvert_exporter": "python",
   "pygments_lexer": "ipython3",
   "version": "3.11.7"
  }
 },
 "nbformat": 4,
 "nbformat_minor": 5
}

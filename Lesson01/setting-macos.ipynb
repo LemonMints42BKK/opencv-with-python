{
 "cells": [
  {
   "cell_type": "markdown",
   "id": "ce977113-b098-4078-85b1-d4d3ad2e65e4",
   "metadata": {},
   "source": [
    "If you're encountering a \"missing xcrun\" error message, it typically means that the Xcode Command Line Tools are not installed on your macOS system or are not properly configured.\n",
    "\n",
    "Here's how you can resolve the issue:"
   ]
  },
  {
   "cell_type": "markdown",
   "id": "c6e7d249-4e3d-473f-8c10-b7adbef0bbe5",
   "metadata": {},
   "source": [
    "1. **Install Xcode Command Line Tools:**\n",
    "   Open Terminal and run the following command:"
   ]
  },
  {
   "cell_type": "markdown",
   "id": "7cc0c06e-bbdc-459e-bad1-eaf0f87f8bbe",
   "metadata": {},
   "source": [
    "  xcode-select --install"
   ]
  },
  {
   "cell_type": "markdown",
   "id": "f1bfe02e-d76f-4a57-b5af-077027e566be",
   "metadata": {},
   "source": [
    "   This command will prompt you to install the Xcode Command Line Tools. Follow the on-screen instructions to complete the installation."
   ]
  },
  {
   "cell_type": "markdown",
   "id": "5157435e-cd7a-4ca7-b829-043cdf58c664",
   "metadata": {},
   "source": [
    "2. **Select Xcode Command Line Tools:**\n",
    "   After the installation is complete, you may need to explicitly select the Xcode Command Line Tools. Run the following command:"
   ]
  },
  {
   "cell_type": "markdown",
   "id": "18e2a65f-80ea-42fc-823c-81fc0312d3ca",
   "metadata": {},
   "source": [
    "  sudo xcode-select -s /Applications/Xcode.app/Contents/Developer"
   ]
  },
  {
   "cell_type": "markdown",
   "id": "a4846c81-bc51-4a4b-8e87-228f4f753de7",
   "metadata": {},
   "source": [
    "  Replace `/Applications/Xcode.app/Contents/Developer` with the path to your Xcode installation if it's installed in a different location."
   ]
  },
  {
   "cell_type": "markdown",
   "id": "dfcb4338-ecdd-4881-8c41-97d28ca9b23b",
   "metadata": {},
   "source": [
    "3. **Verify Installation:**\n",
    "   After completing the above steps, you can verify that the Xcode Command Line Tools are properly installed and configured by running the following command:"
   ]
  },
  {
   "cell_type": "markdown",
   "id": "28153d69-802f-4a82-a41a-8e8da0caa681",
   "metadata": {},
   "source": [
    "xcrun --version"
   ]
  },
  {
   "cell_type": "markdown",
   "id": "adfceadb-7a8e-47db-99f5-3c5febce30e8",
   "metadata": {},
   "source": [
    "If the installation was successful, this command should display the version of the Xcode Command Line Tools installed on your system.\n",
    "\n",
    "After following these steps, you should no longer encounter the \"missing xcrun\" error message, and you should be able to use xcrun and related tools without any issues."
   ]
  },
  {
   "cell_type": "markdown",
   "id": "32e828a5-24cb-49bc-9313-ed75220b0351",
   "metadata": {},
   "source": [
    "```\n",
    "/bin/bash -c \"$(curl -fsSL https://raw.githubusercontent.com/Homebrew/install/HEAD/install.sh)\"\n",
    "brew --version\n",
    "brew install jupyterlab\n",
    "```"
   ]
  },
  {
   "cell_type": "markdown",
   "id": "a8600c8f-16e7-4a23-a690-c31aeaf5acae",
   "metadata": {},
   "source": [
    "### Trying Jupiter Notebook online\n",
    "First, go to [click](https://jupyter.org/try)"
   ]
  }
 ],
 "metadata": {
  "kernelspec": {
   "display_name": "Python 3 (ipykernel)",
   "language": "python",
   "name": "python3"
  },
  "language_info": {
   "codemirror_mode": {
    "name": "ipython",
    "version": 3
   },
   "file_extension": ".py",
   "mimetype": "text/x-python",
   "name": "python",
   "nbconvert_exporter": "python",
   "pygments_lexer": "ipython3",
   "version": "3.11.7"
  }
 },
 "nbformat": 4,
 "nbformat_minor": 5
}

{
 "cells": [
  {
   "cell_type": "markdown",
   "id": "7a131e25-4780-47ab-b13d-f754f8750549",
   "metadata": {},
   "source": [
    "## Valuables\n",
    "### Activity 4: Haiku, about you!\n",
    "*******************************\n",
    "Have you ever heard of a Haiku? It's a from of Japanese poetry that\n",
    "has three line. the first and last line have five syllables and the\n",
    "second line have seven. A syllables is each part of a word\n",
    "For example, \"python\" has two syllable: \"py\" and \"thon\""
   ]
  },
  {
   "cell_type": "code",
   "execution_count": 1,
   "id": "b33cb8af-2de0-4433-aed4-3697afb8248c",
   "metadata": {},
   "outputs": [
    {
     "name": "stdout",
     "output_type": "stream",
     "text": [
      "\n",
      "  Teacher Pat enjoys\n",
      "  learning, a lots of code, and\n",
      "  teaching you python\n",
      "\n"
     ]
    }
   ],
   "source": [
    "haiku = \"\"\"\n",
    "  Teacher Pat enjoys\n",
    "  learning, a lots of code, and\n",
    "  teaching you python\n",
    "\"\"\"\n",
    "print(haiku)"
   ]
  },
  {
   "cell_type": "markdown",
   "id": "f93b152c-9365-4f00-a4a5-9d7d05e22d8a",
   "metadata": {},
   "source": [
    "### Activity 5: Silly stories\n",
    "*******************************\n",
    "Have you ever play mad lab? It's a funny game in with you ask ##another personto give you different kind of words--like collors, ##numbers, adjustives, and more-- to fill in the blanks ina short ##story that they cannot see. After you are done asking the ohter person for their word choices, you read the full story back to them, using the words that they give you! Sometimes, sotires can get really funny."
   ]
  },
  {
   "cell_type": "code",
   "execution_count": 2,
   "id": "194c2b8d-afcd-4392-bd7a-90cfedeb1712",
   "metadata": {},
   "outputs": [
    {
     "name": "stdout",
     "output_type": "stream",
     "text": [
      "\n",
      "  Hi, my name is Mook.\n",
      "  I really like purple stake.\n",
      "  I like it so much, I try to eat it at least 111 times\n",
      "  every day.\n",
      "  It testes better when you eat it under a pine tree!\n",
      "\n"
     ]
    }
   ],
   "source": [
    "name = \"Mook\"\n",
    "adjective = \"purple\"\n",
    "favorite_snack = \"stake\"\n",
    "number = \"111\"\n",
    "type_of_tree = \"pine tree\"\n",
    "\n",
    "silly_story = f\"\"\"\n",
    "  Hi, my name is {name}.\n",
    "  I really like {adjective} {favorite_snack}.\n",
    "  I like it so much, I try to eat it at least {number} times\n",
    "  every day.\n",
    "  It testes better when you eat it under a {type_of_tree}!\n",
    "\"\"\"\n",
    "print(silly_story)"
   ]
  },
  {
   "cell_type": "markdown",
   "id": "67517499-011d-432e-9d2a-4277afcc5e7c",
   "metadata": {},
   "source": [
    "### Activity 6: reusable variable\n",
    "******************************\n",
    "Varables can be assigned to another variables. Let'see how we can reused a veriable in this way to write our names without duplicating code"
   ]
  },
  {
   "cell_type": "code",
   "execution_count": 4,
   "id": "66450e1c-0730-43b2-9797-66666c6d6e80",
   "metadata": {},
   "outputs": [
    {
     "name": "stdout",
     "output_type": "stream",
     "text": [
      "John Wick \n"
     ]
    }
   ],
   "source": [
    "first_name = \"John\"\n",
    "full_name = f\"{first_name} Wick \"\n",
    "print(full_name)"
   ]
  },
  {
   "cell_type": "markdown",
   "id": "f2674e19-a71c-4a03-aff7-69949557eb90",
   "metadata": {},
   "source": [
    "### Activity 7: Better variable name\n",
    "*******************************\n",
    "Hey, look one of the programes our friend has written accidentally got hacked! Someone changed all of their names to the following:"
   ]
  },
  {
   "cell_type": "code",
   "execution_count": 5,
   "id": "8ca39575-8a7a-47ad-996a-3548fa842c93",
   "metadata": {},
   "outputs": [
    {
     "name": "stdout",
     "output_type": "stream",
     "text": [
      "Sofware Engineer\n"
     ]
    }
   ],
   "source": [
    "# name90 = \"Adrienne\"\n",
    "# nameGoodCookie = \"chocolate chip cookies\"\n",
    "\n",
    "# firstName = 20\n",
    "# LAST_name= \"Blue\"\n",
    "# 309384 = \"Adrienne Tacke\"\n",
    "Helloooooooooooooo_8392982r = \"Sofware Engineer\"\n",
    "print(f\"{Helloooooooooooooo_8392982r}\")"
   ]
  },
  {
   "cell_type": "markdown",
   "id": "06e7970e-865c-45e7-83b7-db50b3c4e863",
   "metadata": {},
   "source": [
    "### Challenge : Multilayer Cake\n",
    "*******************************\n",
    "Let's bake a cake! An electronic one made of characters, anyway \n",
    "Here are some example!"
   ]
  },
  {
   "cell_type": "code",
   "execution_count": 6,
   "id": "64b464c2-d5dc-42db-8f8a-e54fb338f836",
   "metadata": {},
   "outputs": [
    {
     "name": "stdout",
     "output_type": "stream",
     "text": [
      "\n",
      "            @@@@\n",
      "            {  }\n",
      "           @@@@@@\n",
      "          {      }\n",
      "         @@@@@@@@@@\n",
      "        {          }\n",
      "\n"
     ]
    }
   ],
   "source": [
    "cake = \"\"\"\n",
    "            @@@@\n",
    "            {  }\n",
    "           @@@@@@\n",
    "          {      }\n",
    "         @@@@@@@@@@\n",
    "        {          }\n",
    "\"\"\"\n",
    "print(cake)"
   ]
  },
  {
   "cell_type": "code",
   "execution_count": null,
   "id": "d1d266f0-713e-4210-b355-92e1d2d37683",
   "metadata": {},
   "outputs": [],
   "source": []
  }
 ],
 "metadata": {
  "kernelspec": {
   "display_name": "Python 3 (ipykernel)",
   "language": "python",
   "name": "python3"
  },
  "language_info": {
   "codemirror_mode": {
    "name": "ipython",
    "version": 3
   },
   "file_extension": ".py",
   "mimetype": "text/x-python",
   "name": "python",
   "nbconvert_exporter": "python",
   "pygments_lexer": "ipython3",
   "version": "3.11.7"
  }
 },
 "nbformat": 4,
 "nbformat_minor": 5
}

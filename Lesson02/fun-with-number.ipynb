{
 "cells": [
  {
   "cell_type": "markdown",
   "id": "44fed1da-1557-447f-9076-8000472b8bc6",
   "metadata": {},
   "source": [
    "## Fun With Number"
   ]
  },
  {
   "cell_type": "markdown",
   "id": "13bd7791-2ca8-4408-ad8b-aeaf04b5303e",
   "metadata": {},
   "source": [
    "#### Activity 1 : How old are you?\n",
    "*******************************\n",
    "So, we've introduce ourselves to the computer.\n",
    "Now, let's add to our introduction and tell it how old are you"
   ]
  },
  {
   "cell_type": "code",
   "execution_count": 4,
   "id": "6afcbdab-1f61-4a1e-870b-a60b2e7b216d",
   "metadata": {},
   "outputs": [
    {
     "name": "stdout",
     "output_type": "stream",
     "text": [
      "Hi! My name is Pat and I'm 49 years old\n"
     ]
    }
   ],
   "source": [
    "#1 Put your name \n",
    "name = \n",
    "\n",
    "#2 Put your age\n",
    "age = \n",
    "age += 7\n",
    "\n",
    "print(f\"Hi! My name is {name} and I'm {age} years old\")"
   ]
  },
  {
   "cell_type": "markdown",
   "id": "fa81de93-a302-4690-8589-53f5be089491",
   "metadata": {},
   "source": [
    "#### Activity 2: Oparation Pemdas\n",
    "*******************************\n",
    "Just like math, the arithmetic operators follow a special order to make \n",
    "calculations. Let’s see if you can create a super calculation using\n",
    "this knowledge!\n",
    "#### P  E  MD  AS"
   ]
  },
  {
   "cell_type": "code",
   "execution_count": null,
   "id": "b4979a84-0970-4b2a-9245-81660b4de6ff",
   "metadata": {},
   "outputs": [],
   "source": [
    "magic_1 = 8 * 8 / 8 + 8 - 8 \n",
    "#print(magic_1)\n",
    "\n",
    "magic_2 = 8 * 8 / (8 + 8) - 8 \n",
    "#print(magic_2)\n",
    "\n",
    "magic_3 = 2 ** 2 / 2 + 2 \n",
    "#print(magic_3)\n",
    "\n",
    "magic_4 = 2 ** 2 / (2 + 2) \n",
    "#print(magic_4)"
   ]
  },
  {
   "cell_type": "markdown",
   "id": "01020a0a-130e-47bb-8144-845af813328b",
   "metadata": {},
   "source": [
    "#### ACTIVITY 3: COOKIE COMPARISONS\n",
    "*******************************\n",
    "Say you and your friends are eating some chocolate chip cookies. While you are all happily snacking away, one of your friends says, “My\n",
    "chocolate chip cookie has the most chocolate chips!” You think to yourself, “I think mine does.” And now your other friends are curious,\n",
    "and look down at their chocolate chip cookies to see how their cookies compare with their friends’. How can you use coding to confirm\n",
    "whose claim is True? Who has more or less chocolate chips in their cookie between you and your friend; and how about among your other friends?\n",
    "We could write a small program to help us make that decision. Let’s do it!\n",
    "Imagine that we built an awesome machine that was able to scan some cookies and then give you variables with the number of\n",
    "chocolate chips each contained. How would you use comparison operators to help you decide?"
   ]
  },
  {
   "cell_type": "code",
   "execution_count": null,
   "id": "2bde33d8-18e6-41ad-962e-35c6113fa7a2",
   "metadata": {},
   "outputs": [],
   "source": [
    "#Cookie Scanning macihine\n",
    "chochip_teddy = 13\n",
    "chochip_dora = 9\n",
    "\n",
    "print(f\"Teddy's cookie has more chocolate chip than dora's. It's {}.\")\n",
    "\n",
    "#Rey and Finn\n",
    "chochip_Rey = 8\n",
    "chochip_Finn = 8\n",
    "print(f\"Ray says she has less than or equal to Finn's cookie. It's {}.\")\n",
    "\n",
    "#Tom and Jerry\n",
    "chochip_Tom = 50\n",
    "chochip_Jerry = 50\n",
    "print(f\"Tom says he dones not the same number of chochips as Jerry's cookie. It's {}.\")\n",
    "\n",
    "#Trinity and Neo\n",
    "chochip_neo = 2\n",
    "chochip_Trinity = 2\n",
    "print(f\"Neo says he has the same number of chochips as Trinity's cookie. It's {}.\")\n",
    "\n",
    "#Gigi and Kiki\n",
    "chochip_gigi = 3\n",
    "chochip_kiki = 3\n",
    "print(f\"Kiki says she has less number of chochips as Gigi's cookie. It's {}.\")\n",
    "\n",
    "#rick and morty\n",
    "chochip_rick = 1010\n",
    "chopchip_morty = 10101\n",
    "print(f\"morty says he has at least the same number of chochips as rick cookie,maybe even more!. It's {}.\")"
   ]
  },
  {
   "cell_type": "markdown",
   "id": "44340fba-6a18-4d5d-a64b-f415587e3d14",
   "metadata": {},
   "source": [
    "#### ACTIVITY 4: PIE PARTY!\n",
    "*******************************\n",
    "Today’s our lucky day. We get to help the best baker in town prepare for the pie party! Baker Miguel wants to know how many of each\n",
    "kind of pie to bake to make sure everyone gets a slice that they like. We have some information available, but you’ll have to write some\n",
    "code to figure out exactly how many pies, and which pies, to bake!\n",
    "Here’s the information we know:"
   ]
  },
  {
   "cell_type": "code",
   "execution_count": null,
   "id": "46f5d5d0-541e-4a14-a636-93b691c15629",
   "metadata": {},
   "outputs": [],
   "source": [
    "total_people = 124\n",
    "\n",
    "graham_cracker_crust_lovers = 34\n",
    "vanilla_wafer_crust_lovers = 64\n",
    "oreo_crust_lovers = 14\n",
    "## Pie Types ##\n",
    "\n",
    "# Chocolate and Caramel Pie\n",
    "# pie_crust = \"graham cracker\"\n",
    "choco_caramel = 10\n",
    "print()\n",
    "print(\"Chocolate and Caramel Pie can be evenly divided for all graham cracker crust lovers?\")\n",
    "result = () == 0\n",
    "print(f\"It's {'Yes' if result else 'No'}\")\n",
    "\n",
    "# Mango Pie\n",
    "# pie_crust = \"graham cracker\"\n",
    "mango = 12\n",
    "print()\n",
    "print(\"Chocolate Caramel Pie and Mango Pie can be evenly divided for all graham cracker crust lovers?\")\n",
    "result = \n",
    "print(f\"It's {'Yes' if result else 'No'}\")\n",
    "\n",
    "# Pumpkin Pie\n",
    "# pie_crust = \"graham cracker\"\n",
    "pumpkin = 12\n",
    "print()\n",
    "print(\"Chocolate Caramel Pie, Mango Pie and Pumpkin Pie can be evenly divided for all graham cracker crust lovers?\")\n",
    "result =\n",
    "print(f\"It's {'Yes' if result else 'No'}\")\n",
    "\n",
    "\n",
    "# S’mores Pie\n",
    "# pie_crust = \"oreo\"\n",
    "s_mores = 14\n",
    "print() \n",
    "print(\"S’mores Pie can be evenly divided for all oreo crust lovers?\")\n",
    "result =\n",
    "print(f\"It's {'Yes' if result else 'No'}\")\n",
    "\n",
    "# Triple Berry Pie\n",
    "# pie_crust = \"vanilla wafer\"\n",
    "# triple_berry = 12\n",
    "# print()\n",
    "# print(\"Triple Berry Pie can be evenly divided for all vanilla wafer crust lovers?\")\n",
    "# result =\n",
    "# print(f\"It's {'Yes' if result else 'No'}\")\n",
    "\n",
    "# Apple Pie\n",
    "# pie_crust = \"vanilla wafer\"\n",
    "# apple = 10\n",
    "# print()\n",
    "# print(\"Triple Berry Pie and Apple Pie can be evenly divided for all vanilla wafer crust lovers?\")\n",
    "# result =\n",
    "# print(f\"It's {'Yes' if result else 'No'}\")\n",
    "\n",
    "# Banana Cream Pie\n",
    "# pie_crust = \"vanilla wafer\"\n",
    "# banana_cream = 10\n",
    "# print()\n",
    "# print(\"Triple Berry Pie, Apple Pie and Banana Cream Pie can be evenly divided for all vanilla wafer crust lovers?\")\n",
    "# result =\n",
    "# print(f\"It's {'Yes' if result else 'No'}\")"
   ]
  },
  {
   "cell_type": "markdown",
   "id": "6fb1a360-adb7-48b6-a108-176bc58d28d8",
   "metadata": {},
   "source": [
    "#### ACTIVITY 5: OUTFIT CHECKER\n",
    "*******************************\n",
    "Cherli and Dianna are about to go to a fancy party. Being the fashionistas they are, they want to make sure their outfits aren’t the same,\n",
    "but a few things in common are okay, especially since they both love pink! Let’s write some code to make sure their outfits are as\n",
    "individual as they are!"
   ]
  },
  {
   "cell_type": "code",
   "execution_count": null,
   "id": "120398c5-95f9-4846-985e-57187fc71d87",
   "metadata": {},
   "outputs": [],
   "source": [
    "cherli_dress_color = 'white'\n",
    "cherli_shoe_color = 'white'\n",
    "cherli_has_earrings = True\n",
    "\n",
    "dianna_dress_color = 'purple'\n",
    "dianna_shoe_color = 'pink'\n",
    "dianna_has_earrings = True\n",
    "\n",
    "# Outfit Check 1\n",
    "# print()\n",
    "# print(f\"Cherli and Dianna has different dress color? It's {}\")\n",
    "\n",
    "# Outfit Check 2\n",
    "# print()\n",
    "# print(f\"Cherli and Dianna are both wearing earrings? It's {}\")\n",
    "\n",
    "# Outfit Check 3\n",
    "# print()\n",
    "# print(f\"At least one person is wearing pink? It's {}\")\n",
    "\n",
    "# Outfit Check 4\n",
    "# print()\n",
    "# print(f\"No one is wearing green? It's {}\")\n",
    "\n",
    "# Outfit Check 5\n",
    "# print()\n",
    "# print(f\"Cherli and Dianna has the same shoe color?\" It's {})"
   ]
  },
  {
   "cell_type": "markdown",
   "id": "98026cea-163c-4df0-ac12-0a8dda8cd55d",
   "metadata": {},
   "source": [
    "#### ACTIVITY 6: LOGICAL LAB!\n",
    "*******************************\n",
    "We’ve learned about the three sets of operators used in Python: arithmetic, logical, and comparison. This will come in handy now,\n",
    "because Ada needs our help sorting through her lab materials."
   ]
  },
  {
   "cell_type": "code",
   "execution_count": null,
   "id": "383940eb-d8bf-497b-bb0c-45d5d75df4a9",
   "metadata": {},
   "outputs": [],
   "source": [
    "beakers = 20\n",
    "tubes = 30\n",
    "rubber_gloves = 10\n",
    "safety_glasses = 4\n",
    "\n",
    "# Four scientistes, each person need  1 pair of safety glassed, 2 rubber gloves, 5 beakers and 10 tubes. \n",
    "\n",
    "# enough_safety_glasses = <Write some code here!>\n",
    "# print(f\"Enough safety glasses?,It's {enough_safety_glasses})\n",
    "\n",
    "# enough_rubber_gloves = <Write some code here!>\n",
    "# print(f\"Enough rubber gloves?,It's {enough_rubber_gloves})\n",
    "\n",
    "# enough_tubes = <Write some code here!>\n",
    "# print(f\"Enough tubes?,It's {enough_tubes})\n",
    "\n",
    "# enough_beakers = <Write some code here!>\n",
    "# print(f\"Enough beakers?,It's {enough_beakers})"
   ]
  },
  {
   "cell_type": "markdown",
   "id": "ba74ed92-c212-4da5-b27e-2bdd2834d055",
   "metadata": {},
   "source": [
    "#### ACTIVITY 7: MODULUS MATH\n",
    "*******************************\n",
    "Practice using the modulus , \"evenly divided\" "
   ]
  },
  {
   "cell_type": "code",
   "execution_count": null,
   "id": "32c192ca-0253-4b37-be1d-9aa134b4d9ae",
   "metadata": {},
   "outputs": [],
   "source": [
    "print()\n",
    "print(12 % 4)"
   ]
  },
  {
   "cell_type": "markdown",
   "id": "616de090-0f00-48f7-aa1a-f661a0ed6b3b",
   "metadata": {},
   "source": [
    "#### ACTIVITY 8: PLANETARY EXPONENTIATION\n",
    "*******************************\n",
    "Scientist Angie needs our help! She’s been exploring other galaxies and has been comparing how many planets they have to the nine\n",
    "that we have in our solar system (because even though it’s a dwarf planet, she wants to include Pluto). Can you write some code to help\n",
    "her calculate the total planets for the other galaxies?"
   ]
  },
  {
   "cell_type": "code",
   "execution_count": 1,
   "id": "64379ab7-61fa-46f0-ac28-76580c2356a4",
   "metadata": {
    "jupyter": {
     "source_hidden": true
    }
   },
   "outputs": [
    {
     "name": "stdout",
     "output_type": "stream",
     "text": [
      "\n",
      "      ~+\n",
      "\n",
      "               *       +\n",
      "         '                  |\n",
      "     ()    .-.,=\"``\"=.    - o -\n",
      "           '=/_       \\     |\n",
      "        *   |  '=._    |\n",
      "             \\     `=./`,        '\n",
      "          .   '=.__.=' `='      *\n",
      " +                         +\n",
      "      O      *        '       .\n",
      "\n"
     ]
    }
   ],
   "source": [
    "print(\"\"\"\n",
    "      ~+\n",
    "\n",
    "               *       +\n",
    "         '                  |\n",
    "     ()    .-.,=\"``\"=.    - o -\n",
    "           '=/_       \\     |\n",
    "        *   |  '=._    |\n",
    "             \\     `=./`,        '\n",
    "          .   '=.__.=' `='      *\n",
    " +                         +\n",
    "      O      *        '       .\n",
    "\"\"\")"
   ]
  },
  {
   "cell_type": "code",
   "execution_count": null,
   "id": "d849d313-4933-4c6c-875b-58844478a4ab",
   "metadata": {},
   "outputs": [],
   "source": [
    "# total_planet = \n",
    "\n",
    "#In the Pentatopia galaxy, their magic number is 5 \n",
    "# pentatopia = 5\n",
    "# print(f\"the Pentatopia galaxy has {total_planet**pentatopia} planets!\")\n",
    "\n",
    "# In the Tripolia galaxy, their magic number is 3\n",
    "# print(f\"the Tripolia galaxy has {} planets!\")\n",
    "\n",
    "# In the Deka galaxy, their magic number is 10\n",
    "# print(f\"the Deka galaxy has {} planets!\")\n",
    "\n",
    "# In the Hepaton galaxy, their magic number is 7\n",
    "# print(f\"the Hepaton galaxy has {} planets!\")\n",
    "\n",
    "# In the Oktopia galaxy, their magic number is 8\n",
    "# print(f\"the Oktopia galaxy has {} planets!\")"
   ]
  },
  {
   "cell_type": "markdown",
   "id": "494b5c7b-1f9a-4afe-bc8b-25abfbb6470a",
   "metadata": {},
   "source": [
    "#### CHALLENGE 1: DINNER DECISIONS\n",
    "*******************************\n",
    "Imagine that we are at a buffet, where we are given many different options of food to choose from. There’s a noodle station and a pizza\n",
    "station and all kinds of other stations that serve different cuisines. And then, there’s the most important station: the dessert station.\n",
    "Unfortunately, the names of all the different dishes have been mixed up, so we can’t be sure that what we’re picking is actually the food\n",
    "we think it is!"
   ]
  },
  {
   "cell_type": "markdown",
   "id": "4d573d2d-619a-4dab-bd78-375aec326560",
   "metadata": {},
   "source": [
    "If we were to write a program to pick different foods for us from the buffet, using only these name cards, how would we make sure\n",
    "that only the foods we want are chosen?"
   ]
  },
  {
   "cell_type": "code",
   "execution_count": null,
   "id": "b02764a0-37b3-401a-9081-a6452f96ed2e",
   "metadata": {},
   "outputs": [],
   "source": []
  }
 ],
 "metadata": {
  "kernelspec": {
   "display_name": "Python 3 (ipykernel)",
   "language": "python",
   "name": "python3"
  },
  "language_info": {
   "codemirror_mode": {
    "name": "ipython",
    "version": 3
   },
   "file_extension": ".py",
   "mimetype": "text/x-python",
   "name": "python",
   "nbconvert_exporter": "python",
   "pygments_lexer": "ipython3",
   "version": "3.11.7"
  }
 },
 "nbformat": 4,
 "nbformat_minor": 5
}

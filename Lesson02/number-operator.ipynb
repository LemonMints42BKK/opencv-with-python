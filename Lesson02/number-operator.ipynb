{
 "cells": [
  {
   "cell_type": "markdown",
   "id": "7191c432-df5c-419d-be01-d99622fbe44a",
   "metadata": {},
   "source": [
    "# NUMBER AND OPERATORS\n",
    "\n",
    "## NUMBERIC TYPE\n",
    "### integers type\n",
    "    เลขจำนวนนับ หรือ เลขจำนวนเต็ม ประกอบไปด้วย จำนวนเต็มบวก และ จำนวนเต็มลบ\n",
    "    เช่น -42, -7, -1, 0, 4, 24, ...\n",
    "| 128 (2^7) | 64 (2^6) | 32 (2^5) | 16 (2^4) | 8 (2^3) | 4 (2^2) | 2 (2^1) | 1 (2^0) | |\n",
    "| --- | --- | --- | --- | --- | --- | --- | --- | --- |\n",
    "| 1 | 0 | 0 | 0 | 0 | 1 | 0 | 1 |   |\n",
    "| 128 | 0 | 0 | 0 | 0 | 4 | 0 | 1 | (133) |\n",
    "| 0 | 0 | 0 | 0 | 0 | 0 | 0 | 0 |   |\n",
    "| 0 | 0 | 0 | 0 | 0 | 0 | 0 | 0 | (0) |\n",
    "| 1 | 1 | 1 | 1 | 1 | 1 | 1 | 1 |   |\n",
    "| 128 | 64 | 32 | 16 | 8 | 4 | 2 | 1 | (255) |\n",
    "### floats type\n",
    "    floating point numbers หรือ เลขทศนิยม ประกอบไปด้วย ส่วนของเลขจำนวนเต็ม และ ส่่วนของเลขทศนิยม เช่น 42.00, 73.3, 3.14, ..."
   ]
  },
  {
   "cell_type": "markdown",
   "id": "61f105c4-ef08-406f-952f-4fec867862b6",
   "metadata": {},
   "source": [
    "## OPERATORS\n",
    "### ARITHMETIC OPERATORS\n",
    "| Symbol | name | Examples | Result|\n",
    "| --- | --- | --- | --- |\n",
    "| + | Addition | 8 + 4 | 12 |\n",
    "| - | Subtraction | 8 - 4 | 4 |\n",
    "| * | Multiplication | 8 * 4 | 32 |\n",
    "| / | Division | 8 / 4 | 2 |\n",
    "| % | Modulus | 8 % 4 | 2 |\n",
    "| // | Floor Division | 8 // 4 | 0 |\n",
    "| ** | Exponentiation | 2 ** 4 | 16 |"
   ]
  },
  {
   "cell_type": "code",
   "execution_count": 1,
   "id": "7f9bfa95-c8d4-4814-ba12-a6abf6636475",
   "metadata": {
    "collapsed": true,
    "jupyter": {
     "outputs_hidden": true,
     "source_hidden": true
    },
    "scrolled": true
   },
   "outputs": [
    {
     "name": "stdout",
     "output_type": "stream",
     "text": [
      "9\n",
      "-1\n",
      "20\n",
      "0.8\n",
      "2\n",
      "4\n",
      "32\n"
     ]
    }
   ],
   "source": [
    "a = 4 + 5\n",
    "b = 4 - 5\n",
    "c = 4 * 5\n",
    "d = 4 / 5\n",
    "e = 12 % 5\n",
    "f = 22 // 5\n",
    "g = 2**5\n",
    "\n",
    "print(a)\n",
    "print(b)\n",
    "print(c)\n",
    "print(d)\n",
    "print(e)\n",
    "print(f)\n",
    "print(g)"
   ]
  },
  {
   "cell_type": "markdown",
   "id": "6114cb45-5089-45d1-9b9b-5df1143632a0",
   "metadata": {},
   "source": [
    "### ORDER OF OPERATIONS\n",
    "It is the proper order in which arithmetic operations should be calculated, especially if you use more than one in a single line of code"
   ]
  },
  {
   "cell_type": "markdown",
   "id": "6cecbba6-f135-4148-9004-4433ba92510a",
   "metadata": {
    "jupyter": {
     "source_hidden": true
    }
   },
   "source": [
    "total = 20 + (20 * .0825) - 1.5 + 3"
   ]
  },
  {
   "cell_type": "markdown",
   "id": "3b3712cb-bf82-4ef7-af28-a9c94a805370",
   "metadata": {},
   "source": [
    "**1. Parentheses**\n",
    "The computer always calculate any expression in parentheses first.\n",
    "Parentheses tell us \"I'm most important\" in the **rule of precedence** in math.\n",
    "\n",
    "**2. Exponentiation**\n",
    "When computer sees the '\\**' operator, it raises one number to the power of another. Such as, 2**4 = 2*2*2*2.\n",
    "\n",
    "**3. Multiplication & Division**\n",
    "\n",
    "\n",
    "**4. Addition & Subtraction**\n",
    "\n",
    "\n",
    "## \"P E MD AS\""
   ]
  },
  {
   "cell_type": "code",
   "execution_count": 3,
   "id": "dff65172-5cf5-4300-98af-31ec5ac65dd7",
   "metadata": {
    "collapsed": true,
    "jupyter": {
     "outputs_hidden": true
    }
   },
   "outputs": [
    {
     "name": "stdout",
     "output_type": "stream",
     "text": [
      "Example 1:\n",
      "3\n",
      "5\n",
      "8.0\n",
      "2.0\n"
     ]
    }
   ],
   "source": [
    "print(\"Example 1:\")\n",
    "print(4 - 2 + 1)\n",
    "print(4 + 2 - 1)\n",
    "print(4 * 2 / 1)\n",
    "print(4 / 2 * 1)"
   ]
  },
  {
   "cell_type": "code",
   "execution_count": 4,
   "id": "dfd75665-8fd7-48d2-aa51-caaf6dc966d7",
   "metadata": {
    "collapsed": true,
    "jupyter": {
     "outputs_hidden": true
    },
    "scrolled": true
   },
   "outputs": [
    {
     "name": "stdout",
     "output_type": "stream",
     "text": [
      "Example 2:\n",
      "13\n",
      "23\n",
      "1\n",
      "19\n"
     ]
    }
   ],
   "source": [
    "print(\"Example 2:\")\n",
    "print(7 + 3 * 2)\n",
    "print(7 * 3 + 2)\n",
    "print(7 - 3 * 2)\n",
    "print(7 * 3 - 2)"
   ]
  },
  {
   "cell_type": "code",
   "execution_count": 5,
   "id": "fbd77ffa-8f42-4703-b5eb-ec29171a210b",
   "metadata": {
    "collapsed": true,
    "jupyter": {
     "outputs_hidden": true
    }
   },
   "outputs": [
    {
     "name": "stdout",
     "output_type": "stream",
     "text": [
      "Example 3:\n",
      "8\n",
      "65.0\n",
      "4.0\n"
     ]
    }
   ],
   "source": [
    "print(\"Example 3:\")\n",
    "print(2**3)\n",
    "print(8 / 8 + 8 * 8)\n",
    "print(8 / (8 + 8) * 8)"
   ]
  },
  {
   "cell_type": "markdown",
   "id": "13a7bd9d-9ebb-4f3c-a83e-994d5fc4cf46",
   "metadata": {},
   "source": [
    "### COMPARISON OPERATORS"
   ]
  },
  {
   "cell_type": "markdown",
   "id": "32b8480b-7a99-4654-9b7b-480e823c4ead",
   "metadata": {},
   "source": [
    "| Symbol | name | Examples | Result|\n",
    "| --- | --- | --- | --- |\n",
    "| > | Greater than | 8 > 4 | True |\n",
    "| < | Less than | 8 < 4 | False |\n",
    "| >= | Greater than or Equal to | 8 >= 4 | True |\n",
    "| <= | Less than or Equal to | 8 <= 8 | True |\n",
    "| == | Equal to | 8 == 4 | False |\n",
    "| != | not or Equal to | 8 != 4 | True |\n"
   ]
  },
  {
   "cell_type": "code",
   "execution_count": 10,
   "id": "2c7ff52a-2c1b-40f5-bbb6-8176ebd64bfc",
   "metadata": {
    "collapsed": true,
    "jupyter": {
     "outputs_hidden": true
    }
   },
   "outputs": [
    {
     "name": "stdout",
     "output_type": "stream",
     "text": [
      "3 > 7 : False\n",
      "3 < 7 : True\n",
      "4 >= 3 : True\n",
      "3 >= 3 : True\n",
      "1 <= 3 : True\n",
      "8 <= 8 : True\n",
      "23 == 23 : True\n",
      "10 != 10 : False\n",
      "5 != 9 : True\n"
     ]
    }
   ],
   "source": [
    "print(f\"3 > 7 : {3 > 7}\")\n",
    "print(f\"3 < 7 : {3 < 7}\")\n",
    "print(f\"4 >= 3 : {4 >= 3}\")\n",
    "print(f\"3 >= 3 : {3 >= 3}\")\n",
    "print(f\"1 <= 3 : {1 <= 3}\")\n",
    "print(f\"8 <= 8 : {8 <= 8}\")\n",
    "print(f\"23 == 23 : {23 == 23}\")\n",
    "print(f\"10 != 10 : {10 != 10}\")\n",
    "print(f\"5 != 9 : {5 != 9}\")"
   ]
  },
  {
   "cell_type": "code",
   "execution_count": 9,
   "id": "510f1a9e-0389-4450-b296-d08d6b52c77e",
   "metadata": {},
   "outputs": [
    {
     "name": "stdout",
     "output_type": "stream",
     "text": [
      "10 == '10' = False\n"
     ]
    }
   ],
   "source": [
    "print(f\"10 == '10' : {10 == '10'}\")"
   ]
  },
  {
   "cell_type": "markdown",
   "id": "018a422f-94be-4df7-ac5b-cf874c274827",
   "metadata": {},
   "source": [
    "### LOGITCAL OPERATORS"
   ]
  },
  {
   "cell_type": "markdown",
   "id": "5dd19461-23db-4f1d-8ffe-fec52b2e604b",
   "metadata": {},
   "source": [
    "### 'and'\n",
    "    The **and operator** checks that the values on the right and left of it are both **True** \n",
    "    \n",
    "### 'or'\n",
    "    The **or operator** checks to make sure that at least one value being compared is **True** and  **False** when the values on the right and left of it are both **False**\n",
    "    \n",
    "### 'not'\n",
    "    The **not operator** checks to make sure that the value being compared is **False**"
   ]
  },
  {
   "cell_type": "code",
   "execution_count": 18,
   "id": "c0dec83c-ca8d-48d7-a379-c0498c27f12f",
   "metadata": {},
   "outputs": [],
   "source": [
    "fork = True\n",
    "#fork = False\n",
    "#spoon = True\n",
    "spoon = False\n",
    "#hungry = True\n",
    "hungry = False"
   ]
  },
  {
   "cell_type": "code",
   "execution_count": 17,
   "id": "af08e51c-7598-465b-9272-c479521b3ee2",
   "metadata": {
    "collapsed": true,
    "jupyter": {
     "outputs_hidden": true
    }
   },
   "outputs": [
    {
     "name": "stdout",
     "output_type": "stream",
     "text": [
      "T_T SAD\n",
      "Eat!\n",
      "Eat!\n"
     ]
    }
   ],
   "source": [
    "if fork and spoon:\n",
    "  print(\"Eat!\")\n",
    "else:\n",
    "  print(\"T_T SAD\")\n",
    "\n",
    "if fork or spoon:\n",
    "  print(\"Eat!\")\n",
    "else:\n",
    "  print(\"T_T SAD\")\n",
    "\n",
    "if not hungry:\n",
    "  print(\"Eat!\")\n",
    "else:\n",
    "  print(\"T_T SAD\")"
   ]
  },
  {
   "cell_type": "code",
   "execution_count": 13,
   "id": "7f724e2a-b64b-430a-98df-95e6fc6bbaea",
   "metadata": {
    "collapsed": true,
    "jupyter": {
     "outputs_hidden": true
    }
   },
   "outputs": [
    {
     "name": "stdout",
     "output_type": "stream",
     "text": [
      "False\n"
     ]
    }
   ],
   "source": [
    "# #6\n",
    "if 1 == 1 and 1 == 0:\n",
    "  print(\"True\")\n",
    "else:\n",
    "  print(\"False\")\n",
    "  "
   ]
  },
  {
   "cell_type": "code",
   "execution_count": 14,
   "id": "fbd871ec-0fb5-4bef-8eed-2d6715cc2887",
   "metadata": {
    "collapsed": true,
    "jupyter": {
     "outputs_hidden": true
    }
   },
   "outputs": [
    {
     "name": "stdout",
     "output_type": "stream",
     "text": [
      "True\n"
     ]
    }
   ],
   "source": [
    "# #7\n",
    "if 1 == 1 or 1 == 0:\n",
    "  print(\"True\")\n",
    "else:\n",
    "  print(\"False\")"
   ]
  },
  {
   "cell_type": "code",
   "execution_count": 15,
   "id": "f9d98403-8890-4970-bfba-279b5eb19bc7",
   "metadata": {
    "collapsed": true,
    "jupyter": {
     "outputs_hidden": true
    }
   },
   "outputs": [
    {
     "name": "stdout",
     "output_type": "stream",
     "text": [
      "True\n"
     ]
    }
   ],
   "source": [
    "# #8\n",
    "if not 1 == 0:\n",
    "  print(\"True\")\n",
    "else:\n",
    "  print(\"False\")"
   ]
  }
 ],
 "metadata": {
  "kernelspec": {
   "display_name": "Python 3 (ipykernel)",
   "language": "python",
   "name": "python3"
  },
  "language_info": {
   "codemirror_mode": {
    "name": "ipython",
    "version": 3
   },
   "file_extension": ".py",
   "mimetype": "text/x-python",
   "name": "python",
   "nbconvert_exporter": "python",
   "pygments_lexer": "ipython3",
   "version": "3.10.12"
  }
 },
 "nbformat": 4,
 "nbformat_minor": 5
}

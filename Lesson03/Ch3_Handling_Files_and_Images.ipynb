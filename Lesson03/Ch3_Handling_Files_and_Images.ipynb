{
 "cells": [
  {
   "cell_type": "markdown",
   "id": "a662b165-1c49-4771-a0c2-76fe91de52e7",
   "metadata": {},
   "source": [
    "# 3\n",
    "# Handling Files and Images\n",
    "*******************\n",
    "\n",
    "In this chapter, we will cover the following topics:\n",
    "> * A theoretical introduction to handling files and images\n",
    "> * Reading/writing images\n",
    "> * Reading camera frames and video files\n",
    "> * Writing a video file\n",
    "> * Playing with video capture properties"
   ]
  },
  {
   "cell_type": "markdown",
   "id": "a90d7eac-781b-40e1-8c85-fb5d06d8f7a5",
   "metadata": {},
   "source": [
    "## An introduction to handling files and images\n",
    "This overview is summarized in the following diagram:\n",
    "![OpenCV and Python projects](https://static.packt-cdn.com/products/9781789344912/graphics/assets/5f416e00-1a15-4ad1-bbae-6c73a70d0fa0.png)"
   ]
  },
  {
   "cell_type": "markdown",
   "id": "f58b0762-cf6a-4f9a-9a1b-0807ade95cf6",
   "metadata": {},
   "source": [
    "### (input-processing-output) "
   ]
  },
  {
   "cell_type": "markdown",
   "id": "37366fa1-5a04-4a0b-b022-60f304444ce8",
   "metadata": {},
   "source": [
    "### sys.argv\n"
   ]
  },
  {
   "cell_type": "markdown",
   "id": "0fa1c580-269e-43d4-bcc3-124e6dfdfc49",
   "metadata": {},
   "source": [
    "Which can be seen in the *argparse_positional_arguments.py* example:\n"
   ]
  },
  {
   "cell_type": "code",
   "execution_count": null,
   "id": "9d19f363-3e7f-4f46-983d-c31fd751d9d6",
   "metadata": {},
   "outputs": [],
   "source": [
    "# Import the required packages\n",
    "import sys\n",
    "\n",
    "# We will print some information in connection with sys.argv to see how it works:\n",
    "print(\"The name of the script being processed is:'{}'\".format(sys.argv[0]))\n",
    "print(\"The number of arguments of the script is:'{}'\".format(len(sys.argv)))\n",
    "print(\"The arguments of the script are: '{}'\".format(sys.argv))"
   ]
  },
  {
   "cell_type": "markdown",
   "id": "7dc18121-7ce1-433c-9712-97bcc13ea61f",
   "metadata": {},
   "source": [
    "```\n",
    "# sys.argv = ['sys.argv[0] = script's name', 'sys.argv[1] = parem1' , 'sys.argv[2] = parem2',...]\n",
    "```\n",
    "Let's find out about package **sys** [click](https://docs.python.org/3/library/sys.html)"
   ]
  },
  {
   "cell_type": "markdown",
   "id": "caf1c2a0-fc3f-4081-97eb-3521ff3349cd",
   "metadata": {},
   "source": [
    "### Argparse – command-line option and argument parsing"
   ]
  },
  {
   "cell_type": "markdown",
   "id": "88c33925-316a-4c01-8654-96f623aec77c",
   "metadata": {},
   "source": [
    "Pythonhas a module called argparse [**click**](https://docs.python.org/3/library/argparse.html) in\n",
    "the standard library for parsing command-line arguments. First, the program determines\n",
    "what arguments it requires. Then, argparse will work out how to parse these arguments\n",
    "to **sys.argv**. Also, argparse produces help and usage messages, and issues errors when\n",
    "invalid arguments are provided."
   ]
  },
  {
   "cell_type": "markdown",
   "id": "ec711f3f-70ee-4712-87ce-2acc33dfc2e5",
   "metadata": {},
   "source": [
    "## Reading and writing images"
   ]
  },
  {
   "cell_type": "markdown",
   "id": "2059cf82-2e26-468c-b61c-36728c060052",
   "metadata": {},
   "source": [
    "In computer vision projects, images are commonly used as command-line arguments in our\n",
    "scripts. In the following sections, we are going to see how we can read and write images."
   ]
  },
  {
   "cell_type": "markdown",
   "id": "22bb6210-18d3-48bb-bd5c-cf74175411e3",
   "metadata": {},
   "source": [
    "### Reading images in OpenCV"
   ]
  },
  {
   "cell_type": "markdown",
   "id": "5df0d262-4468-4d51-b754-81a5fd2656ab",
   "metadata": {},
   "source": [
    "The following example, *argparse_load_image.py*"
   ]
  },
  {
   "cell_type": "code",
   "execution_count": null,
   "id": "092f9737-ed88-4bca-bb3d-1b5c22af473e",
   "metadata": {},
   "outputs": [],
   "source": [
    "# Import the required packages\n",
    "import argparse\n",
    "import cv2\n",
    "# We first create the ArgumentParser object\n",
    "# The created object 'parser' will have the necessary information\n",
    "# to parse the command-line arguments into data types.\n",
    "parser = argparse.ArgumentParser()\n",
    "# We add 'path_image' argument using add_argument() including a help. The type of this argument is string (by default)\n",
    "parser.add_argument(\"path_image\", help=\"path to input image to be displayed\")\n",
    "# The information about program arguments is stored in 'parser'\n",
    "# Then, it is used when the parser calls parse_args().\n",
    "# ArgumentParser parses arguments through the parse_args() method:\n",
    "args = parser.parse_args()\n",
    "# We can now load the input image from disk:\n",
    "image = cv2.imread(args.path_image)\n",
    "# Parse the argument and store it in a dictionary:\n",
    "args = vars(parser.parse_args())\n",
    "# Now, we can also load the input image from disk using args:\n",
    "image2 = cv2.imread(args[\"path_image\"])\n",
    "# Show the loaded image:\n",
    "cv2.imshow(\"loaded image\", image)\n",
    "cv2.imshow(\"loaded image2\", image2)\n",
    "# Wait until a key is pressed:\n",
    "cv2.waitKey(0)\n",
    "# Destroy all windows:\n",
    "cv2.destroyAllWindows()"
   ]
  },
  {
   "cell_type": "markdown",
   "id": "6472f142-6d1e-4380-be95-bef1de369db4",
   "metadata": {},
   "source": [
    "* In this example, the required argument is **path_image**, which contains the path of the\n",
    "image we want to load.\n",
    "* The path of the image is a **string**.\n",
    "* Both **args.path_image** and **args\\[\"path_image\"\\]** will contain the path of the image (two\n",
    "different ways of getting the value from the parameter), so we will use them as the\n",
    "parameter of the **cv2.imread()** function."
   ]
  },
  {
   "cell_type": "markdown",
   "id": "96bcc9a2-0338-4fe5-96c3-4ffa4b8214a2",
   "metadata": {},
   "source": [
    "### Reading and writing images in OpenCV"
   ]
  },
  {
   "cell_type": "markdown",
   "id": "5eb8be3c-76c2-43e1-a0b3-aedf492277ca",
   "metadata": {},
   "source": [
    "In the following example, these three steps (load, processing, and save) are introduced. In this\n",
    "case, the processing step is very simple (convert the image into grayscale). This can be seen\n",
    "in the following example, *argparse_load_processing_save_image.py*:"
   ]
  },
  {
   "cell_type": "code",
   "execution_count": null,
   "id": "3c6927fb-88ea-4804-9198-6bcdf1510a0e",
   "metadata": {},
   "outputs": [],
   "source": [
    "# Import the required packages\n",
    "import argparse\n",
    "import cv2\n",
    "# We first create the ArgumentParser object\n",
    "# The created object 'parser' will have the necessary information\n",
    "# to parse the command-line arguments into data types.\n",
    "parser = argparse.ArgumentParser()\n",
    "# Add 'path_image_input' argument using add_argument() including a help.\n",
    "# The type is string (by default):\n",
    "parser.add_argument(\"path_image_input\", help=\"path to input image to be displayed\")\n",
    "# Add 'path_image_output' argument using add_argument() including a help.\n",
    "# The type is string (by default):\n",
    "parser.add_argument(\"path_image_output\", help=\"path of the processed image to be saved\")\n",
    "# Parse the argument and store it in a dictionary:\n",
    "args = vars(parser.parse_args())\n",
    "# We can load the input image from disk:\n",
    "image_input = cv2.imread(args[\"path_image_input\"])\n",
    "# Show the loaded image:\n",
    "cv2.imshow(\"loaded image\", image_input)\n",
    "# Process the input image (convert it to grayscale):\n",
    "gray_image = cv2.cvtColor(image_input, cv2.COLOR_BGR2GRAY)\n",
    "# Show the processed image:\n",
    "cv2.imshow(\"gray image\", gray_image)\n",
    "# Save the processed image to disk:\n",
    "cv2.imwrite(args[\"path_image_output\"], gray_image)\n",
    "# Wait until a key is pressed:\n",
    "cv2.waitKey(0)\n",
    "# Destroy all windows:\n",
    "cv2.destroyAllWindows()"
   ]
  },
  {
   "cell_type": "markdown",
   "id": "9bb77cfb-f2cb-42d1-92d9-474178278be8",
   "metadata": {},
   "source": [
    "* In this previous example, there are **two required arguments**.\n",
    "* The first one is **path_image_input**, which contains the path of the image we want to load. The path of\n",
    "the image is a string. Therefore, no type should be included in the positional argument\n",
    "because it is a string by default.\n",
    "* The second one is **path_image_output**, which contains the path of the resulting image we want to save. In this example, the processing step consists of converting the loaded image into grayscale:\n",
    "```  \n",
    "# Process the input image (convert it to grayscale)\n",
    "gray_image = cv2.cvtColor(image_input, cv2.COLOR_BGR2GRAY)\n",
    "```\n",
    "* It should be noted that the second argument, **cv2.COLOR_BGR2GRAY**, assumes that the\n",
    "loaded image is a *BGR color image*. If you have loaded an *RGB color* image and you want\n",
    "to convert it into grayscale, you should use **cv2.COLOR_RGB2GRAY**.\n",
    "* This is a very simple processing step, but it is included for the sake of simplicity. In future\n",
    "chapters, more elaborate processing algorithms will be shown."
   ]
  },
  {
   "cell_type": "markdown",
   "id": "2a171e63-8e85-47a3-8325-800a4b3fb1cd",
   "metadata": {},
   "source": [
    "## Reading camera frames and video \n",
    "In some projects, you have to capture camera frames (for example, capture frames with the\n",
    "webcam of your laptop). In OpenCV, we have **cv2.VideoCapture**, which is a class for\n",
    "video capturing from different sources, such as image sequences, video files, and cameras.\n",
    "In this section, we are going to see some examples to introduce us to this class for capturing\n",
    "camera frames."
   ]
  },
  {
   "cell_type": "markdown",
   "id": "b3664bd1-8224-46e1-bdcd-e79d2b73a9b6",
   "metadata": {},
   "source": [
    "### Reading camera frames\n",
    "This first example, *read_camera.py*, shows you how to read frames from a camera that's\n",
    "connected to your computer.\n",
    "> a webcam to your computer, it has an index of **0**"
   ]
  },
  {
   "cell_type": "markdown",
   "id": "04d7b59d-92e8-4a06-b759-8ff9328bb593",
   "metadata": {},
   "source": [
    "### Accessing some properties of the capture object"
   ]
  },
  {
   "cell_type": "markdown",
   "id": "3ee0b2a3-8481-4ac7-b99d-4ac766d4d649",
   "metadata": {},
   "source": [
    "### Saving camera frames"
   ]
  },
  {
   "cell_type": "markdown",
   "id": "f0dccfd3-4a32-426d-b985-f90d9144967d",
   "metadata": {},
   "source": [
    "### Reading a video file"
   ]
  },
  {
   "cell_type": "markdown",
   "id": "8f0bec9d-53c5-4f5f-a487-96ac7d41b0f1",
   "metadata": {},
   "source": [
    "### Reading from an IP camera"
   ]
  },
  {
   "cell_type": "markdown",
   "id": "4f996a2d-5bf2-4a08-a094-29dd53daed41",
   "metadata": {},
   "source": [
    "## Writing a video file"
   ]
  },
  {
   "cell_type": "markdown",
   "id": "a7bda268-d058-4d6e-9f28-374116b620e8",
   "metadata": {},
   "source": [
    "### Calculating frames per second"
   ]
  },
  {
   "cell_type": "markdown",
   "id": "d2e03beb-c325-47a0-97b8-701d9c8ea082",
   "metadata": {},
   "source": [
    "### Considerations for writing a video file"
   ]
  },
  {
   "cell_type": "markdown",
   "id": "7a20ba06-8e72-422f-9629-921efa6f912a",
   "metadata": {},
   "source": [
    "## Playing with video capture properties"
   ]
  },
  {
   "cell_type": "markdown",
   "id": "c7466d75-256a-4664-9f07-750f114835bb",
   "metadata": {},
   "source": [
    "### Getting all the properties from the video capture object"
   ]
  },
  {
   "cell_type": "markdown",
   "id": "3f5ab0c0-92d7-45b0-8341-e05425c69bfd",
   "metadata": {},
   "source": [
    "### Using the properties – playing a video backwards"
   ]
  },
  {
   "cell_type": "markdown",
   "id": "d59abcf7-4156-462d-8a0f-093e2607f54b",
   "metadata": {},
   "source": [
    "## Summary"
   ]
  }
 ],
 "metadata": {
  "kernelspec": {
   "display_name": "Python 3 (ipykernel)",
   "language": "python",
   "name": "python3"
  },
  "language_info": {
   "codemirror_mode": {
    "name": "ipython",
    "version": 3
   },
   "file_extension": ".py",
   "mimetype": "text/x-python",
   "name": "python",
   "nbconvert_exporter": "python",
   "pygments_lexer": "ipython3",
   "version": "3.10.12"
  }
 },
 "nbformat": 4,
 "nbformat_minor": 5
}

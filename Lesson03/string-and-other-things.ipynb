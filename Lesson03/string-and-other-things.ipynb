{
 "cells": [
  {
   "cell_type": "markdown",
   "id": "d9f1fa63-07a7-4a2b-8501-c67791fef283",
   "metadata": {},
   "source": [
    "# STRING + OPERATORS\n",
    "******************\n",
    "\n",
    "## concatenation string"
   ]
  },
  {
   "cell_type": "code",
   "execution_count": null,
   "id": "d63ebcb0-f63d-49f1-90f8-6568e3904ff8",
   "metadata": {
    "jupyter": {
     "source_hidden": true
    }
   },
   "outputs": [],
   "source": [
    "print(\"Cup\" + \"cake\")\n",
    "print(\"Basket\" + \"ball\")\n",
    "\n",
    "first_name = \"Anne\"\n",
    "last_name = \"Cuthbert\"\n",
    "print(first_name + last_name)\n",
    "print(first_name + \" \" + last_name)\n",
    "\n",
    "first_name = \"Jonny \"\n",
    "last_name = \"Duckglass \"\n",
    "full_name = first_name + last_name\n",
    "print(full_name)"
   ]
  },
  {
   "cell_type": "markdown",
   "id": "d0be5b42-3dca-4f25-be65-58d5e763db56",
   "metadata": {},
   "source": [
    "## get your first \"type error\""
   ]
  },
  {
   "cell_type": "code",
   "execution_count": null,
   "id": "43da71e8-c079-4699-9a19-9af9831ccde5",
   "metadata": {
    "jupyter": {
     "source_hidden": true
    }
   },
   "outputs": [],
   "source": [
    "print(3 + \"cookies\")"
   ]
  },
  {
   "cell_type": "markdown",
   "id": "c0211610-39b9-4c1e-a7da-810fd56d6809",
   "metadata": {},
   "source": [
    "## Multiplying string (What!?!)"
   ]
  },
  {
   "cell_type": "code",
   "execution_count": null,
   "id": "82c67060-5642-4bbf-8895-7638cf5e8922",
   "metadata": {
    "jupyter": {
     "source_hidden": true
    }
   },
   "outputs": [],
   "source": [
    "print(5 * \"Wow!\")"
   ]
  },
  {
   "cell_type": "markdown",
   "id": "e3bce345-ca81-46a9-9fd2-f4dac4b43278",
   "metadata": {},
   "source": [
    "# LISTS\n",
    "******************\n",
    "A list is exactly what it sound like: a list of collection of objects.\n",
    "\n",
    "list is very useful because they allow us to work with a lot of data at the same time, which is somthing we do very often in programming."
   ]
  },
  {
   "cell_type": "code",
   "execution_count": null,
   "id": "5644c257-f6e2-4c96-a276-31479c8eacf9",
   "metadata": {
    "jupyter": {
     "source_hidden": true
    }
   },
   "outputs": [],
   "source": [
    "my_favorite_desserts = ['Cookies', 'Cake', 'Ice cream', 'Donuts']\n",
    "citrus_fruits = ['Orange', 'Lemon', 'Grapefruit', 'Pomelo', 'Lime']\n",
    "even_number = [2, 4, 6, 8, 10, 12, 14, 16, 18, 20] \n",
    "answer = [True, False, False, True]\n",
    "facts_about_anne = ['Anne', 'Cuthbert', 18, True]"
   ]
  },
  {
   "cell_type": "markdown",
   "id": "bf23b8d3-f44c-4022-899b-fecb2850f800",
   "metadata": {},
   "source": [
    "## Lists are ordered"
   ]
  },
  {
   "cell_type": "code",
   "execution_count": null,
   "id": "a14db5d0-31d0-41f0-983b-810d9c1709f7",
   "metadata": {
    "jupyter": {
     "source_hidden": true
    }
   },
   "outputs": [],
   "source": [
    "basket_1 = ['Lemon', 'Lime', 'Orange']\n",
    "basket_2 = ['Lime', 'Orange', 'Lemon']\n",
    "print(basket_1 == basket_2)"
   ]
  },
  {
   "cell_type": "markdown",
   "id": "12f3b727-efa1-4362-840a-46725f23f20e",
   "metadata": {},
   "source": [
    "Now you know that lists must have the same objects and the same order to be truly equal.\n",
    "\n",
    "## Lists can be accssed with an index\n",
    "An index is a number that repressentsthe position of an object within a list."
   ]
  },
  {
   "cell_type": "code",
   "execution_count": null,
   "id": "5b7ceec0-9506-459d-aa5b-61141acb0a68",
   "metadata": {
    "jupyter": {
     "source_hidden": true
    }
   },
   "outputs": [],
   "source": [
    "print(citrus_fruits)\n",
    "print(citrus_fruits[2])\n",
    "print(citrus_fruits[4])\n",
    "print(f\"My name is {facts_about_anne[0]} {facts_about_anne[1]}. I'm {facts_about_anne[2]} years old. I'm {'a girl' if facts_about_anne[3] else 'a boy'} \")"
   ]
  },
  {
   "cell_type": "markdown",
   "id": "b97291e0-9d05-4ea1-b166-13e5542d6ae8",
   "metadata": {},
   "source": [
    "## Lists can be sliced"
   ]
  },
  {
   "cell_type": "markdown",
   "id": "c9a11c26-b4e7-49e1-bed6-861bdda85a86",
   "metadata": {},
   "source": [
    "Sliced is the method of selecting a specific range of items within a list."
   ]
  },
  {
   "cell_type": "code",
   "execution_count": null,
   "id": "4d5c475d-1f09-44c1-a534-e17abfeac513",
   "metadata": {
    "jupyter": {
     "source_hidden": true
    }
   },
   "outputs": [],
   "source": [
    "print(f\"I love {my_favorite_desserts[1:3]}.\")\n",
    "print(f\"I keep {citrus_fruits[1:4]}.\")"
   ]
  },
  {
   "cell_type": "markdown",
   "id": "c30a13cd-489e-4e06-8bb3-822e36a0278e",
   "metadata": {},
   "source": [
    "The colon ':' charcter tells the computer we are sliced the list."
   ]
  },
  {
   "cell_type": "code",
   "execution_count": null,
   "id": "0a5aa1d3-f87e-4101-88cc-c10583b72b8d",
   "metadata": {
    "jupyter": {
     "source_hidden": true
    }
   },
   "outputs": [],
   "source": [
    "print(f\"I keep {citrus_fruits[:4]}.\")\n",
    "print(f\"I keep {citrus_fruits[2:]}.\")"
   ]
  },
  {
   "cell_type": "markdown",
   "id": "352524b2-bb22-4fdd-a375-24d9dfcd4498",
   "metadata": {},
   "source": [
    "## Lists are mutable\n",
    "One we create a lists, we can add new objects, delete exiting one, and move objects around.Being to change a lists like in this way means it's **mutable**"
   ]
  },
  {
   "cell_type": "code",
   "execution_count": null,
   "id": "e0bd6feb-5e70-49bb-9930-06bcea6e7fd0",
   "metadata": {
    "jupyter": {
     "source_hidden": true
    }
   },
   "outputs": [],
   "source": [
    "print(my_favorite_desserts)\n",
    "my_favorite_desserts = []\n",
    "print(my_favorite_desserts)"
   ]
  },
  {
   "cell_type": "markdown",
   "id": "6150e161-8d1c-4f2b-832e-ebac1ebab531",
   "metadata": {},
   "source": [
    ":adding asignment operator (+=)"
   ]
  },
  {
   "cell_type": "code",
   "execution_count": null,
   "id": "1bd4ff77-0e16-4048-b1b4-6bbfe7cb8c93",
   "metadata": {},
   "outputs": [],
   "source": [
    "my_favorite_desserts += ['Brownies', 'Muffins', 'Chocolate']\n",
    "print(my_favorite_desserts)"
   ]
  },
  {
   "cell_type": "markdown",
   "id": "b88be651-d72b-429b-8ac3-1c54578eb070",
   "metadata": {},
   "source": [
    "### MEMBERSHIP OPERATOR"
   ]
  },
  {
   "cell_type": "markdown",
   "id": "cb20fa4b-ef5f-44d8-b2c6-ffc035fd6972",
   "metadata": {},
   "source": [
    "**in**"
   ]
  },
  {
   "cell_type": "code",
   "execution_count": null,
   "id": "de3de721-0403-4576-9e2e-6fb4f559f6fc",
   "metadata": {
    "jupyter": {
     "source_hidden": true
    }
   },
   "outputs": [],
   "source": [
    "print('Muffins' in my_favorite_desserts)"
   ]
  },
  {
   "cell_type": "markdown",
   "id": "0fd9821f-11b1-4971-9014-3a808ac73707",
   "metadata": {},
   "source": [
    "**not in**"
   ]
  },
  {
   "cell_type": "code",
   "execution_count": null,
   "id": "5bc5b08f-8b22-4b58-9673-5abf8c999dd2",
   "metadata": {
    "jupyter": {
     "source_hidden": true
    }
   },
   "outputs": [],
   "source": [
    "print('Donuts' not in my_favorite_desserts)"
   ]
  },
  {
   "cell_type": "markdown",
   "id": "e3855525-fe64-46fd-b1fd-008e88832c88",
   "metadata": {},
   "source": [
    "**append()**"
   ]
  },
  {
   "cell_type": "code",
   "execution_count": null,
   "id": "2912d0c1-9566-460b-85fa-dbbacb54beb1",
   "metadata": {
    "jupyter": {
     "source_hidden": true
    }
   },
   "outputs": [],
   "source": [
    "my_favorite_desserts.append('Coke')\n",
    "print(my_favorite_desserts)\n",
    "my_favorite_desserts.append('Candy')\n",
    "print(my_favorite_desserts)"
   ]
  },
  {
   "cell_type": "markdown",
   "id": "26736371-e11f-4dc3-8774-e1deeda46d43",
   "metadata": {},
   "source": [
    "**remove()**"
   ]
  },
  {
   "cell_type": "code",
   "execution_count": null,
   "id": "1c6678e6-afc4-4109-9aaf-7b528da67554",
   "metadata": {
    "jupyter": {
     "source_hidden": true
    }
   },
   "outputs": [],
   "source": [
    "my_favorite_desserts.remove('muffins')\n",
    "print(my_favorite_desserts)\n",
    "my_favorite_desserts.remove('Muffins')\n",
    "print(my_favorite_desserts)"
   ]
  },
  {
   "cell_type": "markdown",
   "id": "c5f7580a-b635-4022-b17f-ede87de9aaac",
   "metadata": {},
   "source": [
    "**del**"
   ]
  },
  {
   "cell_type": "code",
   "execution_count": null,
   "id": "8c6e4c4f-0285-42d9-8f21-24b43ecd0557",
   "metadata": {
    "jupyter": {
     "source_hidden": true
    }
   },
   "outputs": [],
   "source": [
    "del my_favorite_desserts[1]\n",
    "print(my_favorite_desserts)\n",
    "del my_favorite_desserts[1:]\n",
    "print(my_favorite_desserts)"
   ]
  },
  {
   "cell_type": "markdown",
   "id": "0eaf6964-70a4-4578-9fda-2ed74352b107",
   "metadata": {},
   "source": [
    "**Changes Using Indices And Slice Ranges**"
   ]
  },
  {
   "cell_type": "code",
   "execution_count": null,
   "id": "79b048a3-ff74-4bd1-a065-c0517bf41768",
   "metadata": {
    "jupyter": {
     "source_hidden": true
    }
   },
   "outputs": [],
   "source": [
    "my_favorite_desserts[1:1] = ['pumpkin pie']\n",
    "print(my_favorite_desserts)\n",
    "my_favorite_desserts[1] = 'blueberry pie'\n",
    "print(my_favorite_desserts)\n",
    "my_favorite_desserts[2:2] = ['Crepe cake', 'Affogato', 'Apple pie']\n",
    "print(my_favorite_desserts)"
   ]
  },
  {
   "cell_type": "markdown",
   "id": "ba35ea75-b387-4720-ace7-9aaeffca761c",
   "metadata": {},
   "source": [
    "# TUPLES\n",
    "******************\n",
    "Tuple are another type in Python that hold a collection of items or objects.\n",
    "\n",
    "**Tuples use parentheses**"
   ]
  },
  {
   "cell_type": "code",
   "execution_count": null,
   "id": "a7acdd11-ccc9-43d9-80a3-5b76c29d9a4f",
   "metadata": {
    "jupyter": {
     "source_hidden": true
    }
   },
   "outputs": [],
   "source": [
    "rgb_color = ('red', 'green', 'blue')\n",
    "print(rgb_color)"
   ]
  },
  {
   "cell_type": "code",
   "execution_count": null,
   "id": "666366fd-0e25-42f5-b3ad-3ca7a83b77a6",
   "metadata": {
    "jupyter": {
     "source_hidden": true
    }
   },
   "outputs": [],
   "source": [
    "print(rgb_color(1))"
   ]
  },
  {
   "cell_type": "markdown",
   "id": "928efef8-d1eb-431d-a7f2-60ecc24fda2e",
   "metadata": {},
   "source": [
    "**Tuples are immutable**"
   ]
  },
  {
   "cell_type": "code",
   "execution_count": null,
   "id": "238bccf2-c30e-42c3-837f-91a27826b43b",
   "metadata": {
    "jupyter": {
     "source_hidden": true
    }
   },
   "outputs": [],
   "source": [
    "rgb_color += ('yellow')\n",
    "print(rgb_color)"
   ]
  },
  {
   "cell_type": "code",
   "execution_count": null,
   "id": "a40324e2-cbdf-406b-8100-d839a03bf7ab",
   "metadata": {
    "jupyter": {
     "source_hidden": true
    }
   },
   "outputs": [],
   "source": [
    "rgb_color.append('yellow')\n",
    "print(rgb_color)"
   ]
  },
  {
   "cell_type": "code",
   "execution_count": null,
   "id": "0402cbee-f2d2-4256-937d-14264230df46",
   "metadata": {
    "jupyter": {
     "source_hidden": true
    }
   },
   "outputs": [],
   "source": [
    "rgb_color.remove('red')\n",
    "print(rgb_color)"
   ]
  },
  {
   "cell_type": "code",
   "execution_count": null,
   "id": "08e8e9a9-82bd-41a2-9064-41d65e154204",
   "metadata": {
    "jupyter": {
     "source_hidden": true
    }
   },
   "outputs": [],
   "source": [
    "del rgb_color(1)\n",
    "print(rgb_color)"
   ]
  },
  {
   "cell_type": "markdown",
   "id": "80c1e307-e00e-4145-b6bd-1c2de27fa4de",
   "metadata": {},
   "source": [
    "## When to use tupels over lists\n",
    "The tuples is that the collection of itemsyou will be storing shouldn't be change.\n",
    "\n",
    "# IF STATEMENTS\n",
    "******************\n",
    "Decision-making also makes our Python programes more flexible and interesing--and therefore smarter."
   ]
  },
  {
   "cell_type": "code",
   "execution_count": null,
   "id": "5dcdfb36-8065-4d1c-8bfe-d177e4792735",
   "metadata": {
    "jupyter": {
     "source_hidden": true
    }
   },
   "outputs": [],
   "source": [
    "mood = 'tried'\n",
    "snooze = False\n",
    "getup = False"
   ]
  },
  {
   "cell_type": "code",
   "execution_count": null,
   "id": "c5807f41-6ebf-42f3-a724-ae320808cf5e",
   "metadata": {
    "jupyter": {
     "source_hidden": true
    }
   },
   "outputs": [],
   "source": [
    "if mood == 'tried':\n",
    "  print('I need to sleep')\n",
    "  snooze = True\n",
    "elif mood == 'will-rested':\n",
    "  print('........')\n",
    "  getup = True  \n",
    "else:\n",
    "    print('..., I\\'m waiting for input')\n",
    "\n",
    "if snooze:\n",
    "  print('zzzZZZZ')\n",
    "\n",
    "if getup:\n",
    "  print('I am awake!')"
   ]
  }
 ],
 "metadata": {
  "kernelspec": {
   "display_name": "Python 3 (ipykernel)",
   "language": "python",
   "name": "python3"
  },
  "language_info": {
   "codemirror_mode": {
    "name": "ipython",
    "version": 3
   },
   "file_extension": ".py",
   "mimetype": "text/x-python",
   "name": "python",
   "nbconvert_exporter": "python",
   "pygments_lexer": "ipython3",
   "version": "3.11.7"
  }
 },
 "nbformat": 4,
 "nbformat_minor": 5
}

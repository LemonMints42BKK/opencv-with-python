{
 "cells": [
  {
   "cell_type": "markdown",
   "id": "a662b165-1c49-4771-a0c2-76fe91de52e7",
   "metadata": {},
   "source": [
    "# 4\n",
    "# Constructing Basic Shapes in OpenCV\n",
    "*******************\n",
    "\n",
    "In this chapter, we will cover the following topics:\n",
    "> * A theoretical introduction to drawing in OpenCV\n",
    "> * Basic shapes—lines, rectangles, and circles\n",
    "> * Basic shapes (2)—clip and arrowed lines, ellipses, and polylines\n",
    "> * Drawing text\n",
    "> * Dynamic drawing with mouse events\n",
    "> * Advanced drawing\n",
    "\n",
    "\n",
    "\n",
    "\n",
    "\n",
    "\n"
   ]
  },
  {
   "cell_type": "markdown",
   "id": "a90d7eac-781b-40e1-8c85-fb5d06d8f7a5",
   "metadata": {},
   "source": [
    "## A theoretical introduction to drawing in OpenCV\n",
    "*****"
   ]
  },
  {
   "cell_type": "markdown",
   "id": "679d2e14",
   "metadata": {},
   "source": [
    "As mentioned briefly in the introduction, it is a common approach to draw basic shapes on the\n",
    "image in order to do the following:\n",
    "* Show some intermediate results of your algorithm\n",
    "* Show the final results of your algorithm\n",
    "* Show some debugging information"
   ]
  },
  {
   "cell_type": "markdown",
   "id": "a9e032f5",
   "metadata": {},
   "source": [
    "![Face recognition](https://polakowo.io/datadocs/assets/t01a5ed8aab97b460c9.jpg)"
   ]
  },
  {
   "cell_type": "markdown",
   "id": "ca9e95ff",
   "metadata": {},
   "source": [
    "In this way, you can process all the images in a directory and, afterward,\n",
    "you can see where your algorithm has detected wrong faces (false positives) or even\n",
    "missing faces (false negatives):\n",
    "\n",
    "* **A false positive** is an error where the result indicates the presence of a\n",
    "condition when in reality the condition is not satisfied (for example, a\n",
    "chair is classified as a face). \n",
    "* **A false negative** is an error where the result\n",
    "indicates the absence of a condition when in reality the condition should\n",
    "be satisfied (for example, a face is not detected). \n"
   ]
  },
  {
   "cell_type": "markdown",
   "id": "0f9d25e2",
   "metadata": {},
   "source": [
    "A common approach is to create a\n",
    "*constant.py* file to define the colors. Each color is defined by a constant:\n"
   ]
  },
  {
   "cell_type": "code",
   "execution_count": null,
   "id": "ad0ff50c",
   "metadata": {},
   "outputs": [],
   "source": [
    "\"\"\"\n",
    "Common colors triplets (BGR space) to use in OpenCV\n",
    "\"\"\"\n",
    "BLUE = (255, 0, 0)\n",
    "GREEN = (0, 255, 0)\n",
    "RED = (0, 0, 255)\n",
    "YELLOW = (0, 255, 255)\n",
    "MAGENTA = (255, 0, 255)\n",
    "CYAN = (255, 255, 0)\n",
    "DARK_GRAY = (50, 50, 50)"
   ]
  },
  {
   "cell_type": "markdown",
   "id": "97a98a99",
   "metadata": {},
   "source": [
    "Try *testing_colors.py*"
   ]
  },
  {
   "cell_type": "code",
   "execution_count": null,
   "id": "018637a4",
   "metadata": {},
   "outputs": [],
   "source": [
    "# Dictionary containing some colors:\n",
    "colors = {'blue': (255, 0, 0), 'green': (0, 255, 0), 'red': (0, 0, 255), 'yellow': (0, 255, 255),\n",
    "          'magenta': (255, 0, 255), 'cyan': (255, 255, 0), 'white': (255, 255, 255), 'black': (0, 0, 0),\n",
    "          'gray': (125, 125, 125), 'rand': np.random.randint(0, high=256, size=(3,)).tolist(),\n",
    "          'dark_gray': (50, 50, 50), 'light_gray': (220, 220, 220)}"
   ]
  },
  {
   "cell_type": "markdown",
   "id": "c620dd36",
   "metadata": {},
   "source": [
    "You can see that some predefined colors are included in this dictionary—blue, green, red,\n",
    "yellow, magenta, cyan, white, black, gray, a random one, gray, dark_gray, and\n",
    "light_gray. If you want to use a specific color (for example, magenta), you should\n",
    "perform the following:"
   ]
  },
  {
   "cell_type": "markdown",
   "id": "681a44ed",
   "metadata": {},
   "source": [
    "In order to see how to use these two functionalities, which we use in most of the examples\n",
    "in this chapter (the colors function and the show_with_matplotlib()function),"
   ]
  },
  {
   "cell_type": "code",
   "execution_count": null,
   "id": "f99df181",
   "metadata": {},
   "outputs": [],
   "source": [
    "colors['magenta']"
   ]
  },
  {
   "cell_type": "code",
   "execution_count": null,
   "id": "f486942f",
   "metadata": {},
   "outputs": [],
   "source": [
    "show_with_matplotlib(image, 'Dictionary with some predefined colors')"
   ]
  },
  {
   "cell_type": "markdown",
   "id": "f69cb1f4",
   "metadata": {},
   "source": [
    "Additionally, as we are going to plot the figures using Matplotlib, we have created\n",
    "a show_with_matplotlib() function with two arguments. \n",
    "* The first one is the image we want to show.\n",
    "* the second is the title of the figure to plot.\n",
    "\n",
    "Therefore, the first step of this function converts the BGR image to RGB, because you have to show color images with\n",
    "Matplotlib. The second and final step of this function is to show the image using Matplotlib\n",
    "capabilities. To put these pieces together, the testing_colors.py script has been coded.\n",
    "In this script, we draw some lines, each one in a color of the dictionary."
   ]
  },
  {
   "cell_type": "markdown",
   "id": "ec711f3f-70ee-4712-87ce-2acc33dfc2e5",
   "metadata": {},
   "source": [
    "\n",
    "## Basic shapes—lines, rectangles, and circles\n",
    "*****"
   ]
  },
  {
   "cell_type": "markdown",
   "id": "8053fe0e",
   "metadata": {},
   "source": [
    "In the next example, we are going to see how to draw basic shapes in OpenCV. These basic \n",
    "shapes include lines, rectangles, and circles, which are the most common and simple shapes\n",
    "to draw. The first step is to create an image where the shapes will be drawn. To this end, a\n",
    "400 400 image with the 3 channels (to properly display a BGR image) and a uint8 type\n",
    "(8-bit unsigned integers) will be created:"
   ]
  },
  {
   "cell_type": "code",
   "execution_count": null,
   "id": "c44773d2",
   "metadata": {},
   "outputs": [],
   "source": [
    "# We create the canvas to draw: 400 x 400 pixels, 3 channels, uint8 (8-bit\n",
    "unsigned integers)\n",
    "# We set the background to black using np.zeros()\n",
    "image = np.zeros((400, 400, 3), dtype=\"uint8\")\n"
   ]
  },
  {
   "cell_type": "markdown",
   "id": "e9dca574",
   "metadata": {},
   "source": [
    "We set the background to light gray using the colors dictionary:"
   ]
  },
  {
   "cell_type": "code",
   "execution_count": null,
   "id": "c18d720d",
   "metadata": {},
   "outputs": [],
   "source": [
    "# If you want another background color, you can do the following:\n",
    "image[:] = colors['light_gray']"
   ]
  },
  {
   "cell_type": "markdown",
   "id": "ab25b4d3",
   "metadata": {},
   "source": [
    "Try *basic_drawing.py*"
   ]
  },
  {
   "cell_type": "markdown",
   "id": "0807cf76",
   "metadata": {},
   "source": [
    "Now, we are ready to draw the basic shapes. It should be noted that most drawing\n",
    "functions that OpenCV provides have common parameters. For the sake of simplicity, these\n",
    "parameters are briefly introduced here:"
   ]
  },
  {
   "cell_type": "markdown",
   "id": "9a352b32",
   "metadata": {},
   "source": [
    "* *img:* It is the image where the shape will be drawn.\n",
    "* *color:* It is the color (BGR triplet) used to draw the shape.\n",
    "* *thickness:* If this value is positive, it is the thickness of the shape outline.\n",
    "Otherwise, a filled shape will be drawn.\n",
    "* *lineType:* It is the type of the shape boundary. OpenCV provides three types of\n",
    "* *line:*\n",
    "\t* *cv2.LINE_4:* This means four-connected lines\n",
    "\t* *cv2.LINE_8:* This means eight-connected lines\n",
    "\t* *cv2.LINE_AA:* This means an anti-aliased line\n",
    "* *shift:* This indicates the number of fractional bits in connection with the coordinates of some points defining the shape."
   ]
  },
  {
   "cell_type": "markdown",
   "id": "687e19cf",
   "metadata": {},
   "source": [
    "In connection with the aforementioned parameters, the cv2.LINE_AA option for lineType\n",
    "produces a much better quality drawing (for example, when drawing text), but it is slower\n",
    "to draw. So, this consideration should be taken into account. Both the eight-connected and\n",
    "the four-connected lines, which are non-antialiased lines, are drawn with the Bresenham\n",
    "algorithm. For the anti-aliased line type, the Gaussian filtering algorithm is\n",
    "used. Additionally, the shift parameter is necessary because many drawing functions\n",
    "can't deal with sub-pixel accuracy. For simplicity in our examples, we are going to work \n",
    "with integer coordinates. Therefore, this value will be set to 0 (shift = 0). However to\n",
    "give you a complete understanding, an example of how to use the shift parameter will\n",
    "also be provided."
   ]
  },
  {
   "cell_type": "markdown",
   "id": "29826d9b",
   "metadata": {},
   "source": [
    "> Remember that, for all the examples included in this section, a canvas has\n",
    "been created to draw all the shapes. This canvas is a 400 x 400 pixel image,\n",
    "with a light gray background. See the previous screenshot, which shows\n",
    "this canvas.\n"
   ]
  },
  {
   "cell_type": "markdown",
   "id": "36ca8c9f",
   "metadata": {},
   "source": [
    "* ### Drawing lines"
   ]
  },
  {
   "cell_type": "markdown",
   "id": "094fd43e",
   "metadata": {},
   "source": [
    "The first function we are going to see is **cv2.line()**. The signature is as follows:\n",
    "\n",
    "```img = line(img, pt1, pt2, color, thickness=1, lineType=8, shift=0)```\n"
   ]
  },
  {
   "cell_type": "markdown",
   "id": "7fcbd3bf",
   "metadata": {},
   "source": [
    "This function draws a line on the img image connecting pt1 and pt2:\n",
    "\n",
    "```\n",
    "cv2.line(image, (0, 0), (400, 400), colors['green'], 3)\n",
    "cv2.line(image, (0, 400), (400, 0), colors['blue'], 10)\n",
    "cv2.line(image, (200, 0), (200, 400), colors['red'], 3)\n",
    "cv2.line(image, (0, 200), (400, 200), colors['yellow'], 10)\n",
    "```\n"
   ]
  },
  {
   "cell_type": "markdown",
   "id": "ba53c462",
   "metadata": {},
   "source": [
    "After coding these lines, we call the *show_with_matplotlib(image,\n",
    "'cv2.line()')* function."
   ]
  },
  {
   "cell_type": "markdown",
   "id": "9adee534",
   "metadata": {},
   "source": [
    "* ### Drawing rectangles"
   ]
  },
  {
   "cell_type": "markdown",
   "id": "c483fa9c",
   "metadata": {},
   "source": [
    "The signature for the cv2.rectangle() function is as follows:\n",
    "\n",
    "```img = rectangle(img, pt1, pt2, color, thickness=1, lineType=8, shift=0)```\n"
   ]
  },
  {
   "cell_type": "markdown",
   "id": "20700218",
   "metadata": {},
   "source": [
    "This function draws a rectangle given the two opposite corners, pt1 and pt2:\n",
    "```\n",
    "cv2.rectangle(image, (10, 50), (60, 300), colors['green'], 3)\n",
    "cv2.rectangle(image, (80, 50), (130, 300), colors['blue'], -1)\n",
    "cv2.rectangle(image, (150, 50), (350, 100), colors['red'], -1)\n",
    "cv2.rectangle(image, (150, 150), (350, 300), colors['cyan'], 10)\n",
    "```"
   ]
  },
  {
   "cell_type": "markdown",
   "id": "995fe6e6",
   "metadata": {},
   "source": [
    "After drawing these rectangles, we call the show_with_matplotlib(image,\n",
    "'cv2.rectangle()')function. The result is shown in the next screenshot:"
   ]
  },
  {
   "cell_type": "markdown",
   "id": "f1782369",
   "metadata": {},
   "source": [
    "* ### Drawing circles"
   ]
  },
  {
   "cell_type": "markdown",
   "id": "4f61ff90",
   "metadata": {},
   "source": [
    "The signature for the cv2.circle() function is as follows:\n",
    "\n",
    "```img = circle(img, center, radius, color, thickness=1, lineType=8, shift=0)```"
   ]
  },
  {
   "cell_type": "markdown",
   "id": "575aa35a",
   "metadata": {},
   "source": [
    "This function draws a circle with a radius radius centered in the center position. Some\n",
    "circles are defined in the following code:\n",
    "```\n",
    "cv2.circle(image, (50, 50), 20, colors['green'], 3)\n",
    "cv2.circle(image, (100, 100), 30, colors['blue'], -1)\n",
    "cv2.circle(image, (200, 200), 40, colors['magenta'], 10)\n",
    "cv2.circle(image, (300, 300), 40, colors['cyan'], -1)\n",
    "```"
   ]
  },
  {
   "cell_type": "markdown",
   "id": "2f9f7853",
   "metadata": {},
   "source": [
    "After drawing these circles, we call the show_with_matplotlib(image,\n",
    "'cv2.circle()')function. The result is shown in the next screenshot:"
   ]
  },
  {
   "cell_type": "markdown",
   "id": "2a171e63-8e85-47a3-8325-800a4b3fb1cd",
   "metadata": {},
   "source": [
    "## Basic shapes (2)—clip and arrowed lines, ellipses, and polylines\n",
    "*****"
   ]
  },
  {
   "cell_type": "markdown",
   "id": "0bd759c3",
   "metadata": {},
   "source": [
    "In this section, we are going to see how to draw clip lines, arrowed lines, ellipses, and\n",
    "polylines. These shapes are not as straightforward to draw as the shapes we saw in the\n",
    "previous section, but they are simple to understand. The first step is to create an image\n",
    "where the shapes will be drawn. For this, a 300 300 image with the 3 channels (to\n",
    "properly display a BGR image) and a uint8 type (8-bit unsigned integers) will be created:"
   ]
  },
  {
   "cell_type": "code",
   "execution_count": null,
   "id": "1897f797",
   "metadata": {},
   "outputs": [],
   "source": [
    "# We create the canvas to draw: 300 x 300 pixels, 3 channels, uint8 (8-bit\n",
    "unsigned integers)\n",
    "# We set the background to black using np.zeros()\n",
    "image = np.zeros((300, 300, 3), dtype=\"uint8\")"
   ]
  },
  {
   "cell_type": "markdown",
   "id": "49537675",
   "metadata": {},
   "source": [
    "\n",
    "We set the background to light gray using the colors dictionary:"
   ]
  },
  {
   "cell_type": "code",
   "execution_count": null,
   "id": "25321163",
   "metadata": {},
   "outputs": [],
   "source": [
    "# If you want another background color, you can do the following:\n",
    "image[:] = colors['light_gray']\n"
   ]
  },
  {
   "cell_type": "markdown",
   "id": "fe627cea",
   "metadata": {},
   "source": [
    "At this point, we can start drawing the new shapes."
   ]
  },
  {
   "cell_type": "markdown",
   "id": "29847516",
   "metadata": {},
   "source": [
    "To see the full code of this section, you can see the *basic_drawing_2.py* script.\n"
   ]
  },
  {
   "cell_type": "markdown",
   "id": "557445c4",
   "metadata": {},
   "source": [
    "* ### Drawing a clip line"
   ]
  },
  {
   "cell_type": "markdown",
   "id": "1f997c0a",
   "metadata": {},
   "source": [
    "The signature for the cv2.clipLine() function is as follows as follows:\n"
   ]
  },
  {
   "cell_type": "markdown",
   "id": "d6a6a9c8",
   "metadata": {},
   "source": [
    "```retval, pt1, pt2 = clipLine(imgRect, pt1, pt2)```"
   ]
  },
  {
   "cell_type": "markdown",
   "id": "2a96da76",
   "metadata": {},
   "source": [
    "The cv2.clipLine() function returns the segment (defined by the pt1 and pt2 output\n",
    "points) inside the rectangle (the function clips the segment against the defined rectangle). In\n",
    "this sense, retval is False, if the two original pt1 and pt2 points are both outside the\n",
    "rectangle. Otherwise (some of the two pt1 or pt2 points are inside the rectangle) this\n",
    "function returns True. This can be more clearly seen with the next piece of code:\n"
   ]
  },
  {
   "cell_type": "code",
   "execution_count": null,
   "id": "5b2900a7",
   "metadata": {},
   "outputs": [],
   "source": [
    "cv2.line(image, (0, 0), (300, 300), colors['green'], 3)\n",
    "cv2.rectangle(image, (0, 0), (100, 100), colors['blue'], 3)\n",
    "ret, p1, p2 = cv2.clipLine((0, 0, 100, 100), (0, 0), (300, 300))\n",
    "if ret:\n",
    " cv2.line(image, p1, p2, colors['yellow'], 3)\n"
   ]
  },
  {
   "cell_type": "markdown",
   "id": "a20950ca",
   "metadata": {},
   "source": [
    "As you can see, the line segment defined by the p1 and p2 points is shown in yellow,\n",
    "clipping the original line segment against the rectangle. In this case, ret is True because at\n",
    "least one of the points is inside the rectangle and this is the reason why the yellow segment,\n",
    "defined by pt1 and pt2, is drawn.\n"
   ]
  },
  {
   "cell_type": "markdown",
   "id": "247a207a",
   "metadata": {},
   "source": [
    "* ### Drawing arrows"
   ]
  },
  {
   "cell_type": "markdown",
   "id": "57971cb6",
   "metadata": {},
   "source": [
    "The signature for this function is as follows:\n"
   ]
  },
  {
   "cell_type": "markdown",
   "id": "49671b9b",
   "metadata": {},
   "source": [
    "```\n",
    "cv.arrowedLine(img, pt1, pt2, color, thickness=1, lineType=8, shift=0,\n",
    "tipLength=0.1)\n",
    "```\n"
   ]
  },
  {
   "cell_type": "markdown",
   "id": "4f2b6ea5",
   "metadata": {},
   "source": [
    "This function allows you to create an arrow, which points from the first point defined by\n",
    "pt1 to the second point defined by pt2. The length of the arrow tip can be controlled by\n",
    "the tipLength parameter, which is defined in relation to the segment length (distance\n",
    "between pt1 and pt2):\n"
   ]
  },
  {
   "cell_type": "code",
   "execution_count": null,
   "id": "f946faac",
   "metadata": {},
   "outputs": [],
   "source": [
    "cv2.arrowedLine(image, (50, 50), (200, 50), colors['red'], 3, 8, 0, 0.1)\n",
    "cv2.arrowedLine(image, (50, 120), (200, 120), colors['green'], 3,\n",
    "cv2.LINE_AA, 0, 0.3)\n",
    "cv2.arrowedLine(image, (50, 200), (200, 200), colors['blue'], 3, 8, 0, 0.3)\n"
   ]
  },
  {
   "cell_type": "markdown",
   "id": "58308962",
   "metadata": {},
   "source": [
    "As you can see, three arrows are defined. See the next screenshot, where these arrows are\n",
    "plotted. Additionally, see the difference between cv2.LINE_AA (you can also write 16) and\n",
    "8 (you can also write cv2.LINE_8):"
   ]
  },
  {
   "cell_type": "markdown",
   "id": "7694f7ec",
   "metadata": {},
   "source": [
    "> In this example, we have combined (on purpose to call your attention)\n",
    "both enums (for example, cv2.LINE_AA) or writing the value directly (for\n",
    "example, 8) in connection with the lineType parameter. This is definitely\n",
    "not a good idea, because it could confuse you. One criterion should be\n",
    "established and maintained throughout all your code.\n"
   ]
  },
  {
   "cell_type": "markdown",
   "id": "9c7628d9",
   "metadata": {},
   "source": [
    "* ### Drawing ellipses"
   ]
  },
  {
   "cell_type": "markdown",
   "id": "44dc4636",
   "metadata": {},
   "source": [
    "The signature for this function is as follows:"
   ]
  },
  {
   "cell_type": "markdown",
   "id": "505ece8d",
   "metadata": {},
   "source": [
    "```\n",
    "cv2.ellipse(img, center, axes, angle, startAngle, endAngle, color,\n",
    "thickness=1, lineType=8, shift=0)\n",
    "```"
   ]
  },
  {
   "cell_type": "markdown",
   "id": "3535e717",
   "metadata": {},
   "source": [
    "This function allows you to create different types of ellipses. The angle parameter (in\n",
    "degrees) allows you to rotate the ellipse. The axes parameter controls the size of the ellipse\n",
    "corresponding to half the size of the axes. If a full ellipse is required, startAngle = 0 and\n",
    "endAngle = 360. Otherwise, you should adjust these parameters to the required elliptic\n",
    "arc (in degrees). You can also see that, by passing the same value for the axes, you can draw\n",
    "a circle:"
   ]
  },
  {
   "cell_type": "code",
   "execution_count": null,
   "id": "782d7651",
   "metadata": {},
   "outputs": [],
   "source": [
    "cv2.ellipse(image, (80, 80), (60, 40), 0, 0, 360, colors['red'], -1)\n",
    "cv2.ellipse(image, (80, 200), (80, 40), 0, 0, 360, colors['green'], 3)\n",
    "cv2.ellipse(image, (80, 200), (10, 40), 0, 0, 360, colors['blue'], 3)\n",
    "cv2.ellipse(image, (200, 200), (10, 40), 0, 0, 180, colors['yellow'], 3)\n",
    "cv2.ellipse(image, (200, 100), (10, 40), 0, 0, 270, colors['cyan'], 3)\n",
    "cv2.ellipse(image, (250, 250), (30, 30), 0, 0, 360, colors['magenta'], 3)\n",
    "cv2.ellipse(image, (250, 100), (20, 40), 45, 0, 360, colors['gray'], 3)\n"
   ]
  },
  {
   "cell_type": "markdown",
   "id": "cb165853",
   "metadata": {},
   "source": [
    "* ### Drawing polygons"
   ]
  },
  {
   "cell_type": "markdown",
   "id": "87fba81f",
   "metadata": {},
   "source": [
    "The signature for this function is as follows:\n"
   ]
  },
  {
   "cell_type": "markdown",
   "id": "644117cf",
   "metadata": {},
   "source": [
    "```\n",
    "cv2.polylines(img, pts, isClosed, color, thickness=1, lineType=8, shift=0)\n",
    "\n",
    "```"
   ]
  },
  {
   "cell_type": "markdown",
   "id": "54d2dff7",
   "metadata": {},
   "source": [
    "This function allows you to create polygonal curves. Here the key parameter is pts, where\n",
    "the array defining the polygonal curve should be provided. The shape of this parameter\n",
    "should be (number_vertex, 1, 2). So a common approach is to define it by using\n",
    "np.array to create the coordinates (of the np.int32 type) and, afterward, reshape it to\n",
    "match the aforementioned shape. For example, to create a triangle, the code will look like\n",
    "this:"
   ]
  },
  {
   "cell_type": "code",
   "execution_count": null,
   "id": "2b719597",
   "metadata": {},
   "outputs": [],
   "source": [
    "# These points define a triangle\n",
    "pts = np.array([[250, 5], [220, 80], [280, 80]], np.int32)\n",
    "# Reshape to shape (number_vertex, 1, 2)\n",
    "pts = pts.reshape((-1, 1, 2))\n",
    "# Print the shapes: this line is not necessary, only for visualization\n",
    "print(\"shape of pts '{}'\".format(pts.shape))\n",
    "# this gives: shape of pts '(3, 1, 2)'\n"
   ]
  },
  {
   "cell_type": "markdown",
   "id": "727f03ca",
   "metadata": {},
   "source": [
    "Another important parameter is isClosed. If this parameter is True, the polygon will be\n",
    "drawn closed. Otherwise, a line segment between the first and last vertex will not be\n",
    "plotted, resulting in an open polygon. For a complete explanation, in order to draw a closed\n",
    "triangle, the code is given next:"
   ]
  },
  {
   "cell_type": "code",
   "execution_count": null,
   "id": "c968d4b6",
   "metadata": {},
   "outputs": [],
   "source": [
    "# These points define a triangle\n",
    "pts = np.array([[250, 5], [220, 80], [280, 80]], np.int32)\n",
    "# Reshape to shape (number_vertex, 1, 2)\n",
    "pts = pts.reshape((-1, 1, 2))\n",
    "# Print the shapes: this line is not necessary, only for visualization\n",
    "print(\"shape of pts '{}'\".format(pts.shape))\n",
    "# Draw this poligon with True option\n",
    "cv2.polylines(image, [pts], True, colors['green'], 3)\n"
   ]
  },
  {
   "cell_type": "markdown",
   "id": "8316bbe7",
   "metadata": {},
   "source": [
    "To see the full code of this section, you can see the *basic_drawing_2.py* script.\n"
   ]
  },
  {
   "cell_type": "markdown",
   "id": "1c37de56",
   "metadata": {},
   "source": [
    "### Shift parameter in drawing functions\n"
   ]
  },
  {
   "cell_type": "markdown",
   "id": "a9c15055",
   "metadata": {},
   "source": [
    "Some of the previous functions (the ones with the shift parameter) can work with sub-pixel accuracy in connection with the pixel coordinates. To cope with this, you should pass\n",
    "the coordinates as fixed-point numbers, which are encoded as integers. "
   ]
  },
  {
   "cell_type": "markdown",
   "id": "642d932a",
   "metadata": {},
   "source": [
    "> A fixed-point number means that there is a specific (fixed) number of\n",
    "digits (bits) reserved for both the integer (on the left of the decimal point)\n",
    "and the fractional parts (on the right of the decimal point).\n"
   ]
  },
  {
   "cell_type": "markdown",
   "id": "ae6b5bd0",
   "metadata": {},
   "source": [
    "### lineType parameter in drawing functions\n",
    "\n"
   ]
  },
  {
   "cell_type": "markdown",
   "id": "09abb558",
   "metadata": {},
   "source": [
    "Another common parameter is lineType, which can take three different values. We have \n",
    "previously commented on the differences between these three types. In order to see it more\n",
    "clearly, you can see the next screenshot, where we have plotted three lines with the same\n",
    "thickness and inclination: yellow = cv2.LINE_4, red = cv2.LINE_AA, and green =\n",
    "cv2.LINE_8"
   ]
  },
  {
   "cell_type": "markdown",
   "id": "8139c11e",
   "metadata": {},
   "source": [
    " To see the full code of this example, you can check\n",
    "*the basic_line_types.py* script:\n"
   ]
  },
  {
   "cell_type": "markdown",
   "id": "e94a5082",
   "metadata": {},
   "source": [
    "For example, this piece of code draws two circles with a radius of 300. One of them uses a\n",
    "value of shift = 2 to provide sub-pixel accuracy. In this case, you should multiply both\n",
    "the origin and the radius by a factor of 4 (2 shift= 2):"
   ]
  },
  {
   "cell_type": "code",
   "execution_count": null,
   "id": "27cbcc50",
   "metadata": {},
   "outputs": [],
   "source": [
    "shift = 2\n",
    "factor = 2 ** shift\n",
    "print(\"factor: '{}'\".format(factor))\n",
    "cv2.circle(image, (int(round(299.99 * factor)), int(round(299.99 *\n",
    "factor))), 300 * factor, colors['red'], 1, shift=shift)\n",
    "cv2.circle(image, (299, 299), 300, colors['green'], 1)\n"
   ]
  },
  {
   "cell_type": "markdown",
   "id": "fa38eb46",
   "metadata": {},
   "source": [
    "If shift = 3, the value for the factor will be 8 (2shift = 3), and so on. Multiplying by powers of\n",
    "2 is the same as shifting the bits corresponding to the integer binary representations to the\n",
    "left by one. This way you can draw float coordinates. To summarize this point, we can also\n",
    "create a wrapper function for cv2.circle(), which can cope with float\n",
    "coordinates—draw_float_circle()—using the shift argument property. The key code\n",
    "for this example is shown next."
   ]
  },
  {
   "cell_type": "markdown",
   "id": "ee48625e",
   "metadata": {},
   "source": [
    "The full code is defined in\n",
    "the *shift_parameter.py* script:"
   ]
  },
  {
   "cell_type": "code",
   "execution_count": null,
   "id": "a11c0033",
   "metadata": {},
   "outputs": [],
   "source": [
    "def draw_float_circle(img, center, radius, color, thickness=1, lineType=8,\n",
    "shift=4):\n",
    " \"\"\"Wrapper function to draw float-coordinate circles\n",
    " \"\"\"\n",
    " factor = 2 ** shift\n",
    " center = (int(round(center[0] * factor)), int(round(center[1] *\n",
    "factor)))\n",
    " radius = int(round(radius * factor))\n",
    " cv2.circle(img, center, radius, color, thickness, lineType, shift)\n",
    "draw_float_circle(image, (299, 299), 300, colors['red'], 1, 8, 0)\n",
    "draw_float_circle(image, (299.9, 299.9), 300, colors['green'], 1, 8, 1)\n",
    "draw_float_circle(image, (299.99, 299.99), 300, colors['blue'], 1, 8, 2)\n",
    "draw_float_circle(image, (299.999, 299.999), 300, colors['yellow'], 1, 8,\n",
    "3)\n"
   ]
  },
  {
   "cell_type": "markdown",
   "id": "7a20ba06-8e72-422f-9629-921efa6f912a",
   "metadata": {},
   "source": [
    "## Drawing text\n",
    "*****"
   ]
  },
  {
   "cell_type": "markdown",
   "id": "12500f5f",
   "metadata": {},
   "source": [
    "OpenCV can also be used to render text in images. In this section, we will see how to draw\n",
    "text by using the cv2.putText() function. Additionally, we will see all the available fonts\n",
    "you can use. Lastly, we will see some OpenCV functions in connection with text drawing. "
   ]
  },
  {
   "cell_type": "markdown",
   "id": "ffd5a1c5",
   "metadata": {},
   "source": [
    "### Drawing text\n"
   ]
  },
  {
   "cell_type": "markdown",
   "id": "82ccc681",
   "metadata": {},
   "source": [
    "The cv2.putText() function has the following signature:"
   ]
  },
  {
   "cell_type": "markdown",
   "id": "ae7da9c0",
   "metadata": {},
   "source": [
    "```\n",
    "img = cv.putText( img, text, org, fontFace, fontScale, color, thickness=1,lineType= 8, bottomLeftOrigin=False)\n",
    "```"
   ]
  },
  {
   "cell_type": "markdown",
   "id": "31ac1784",
   "metadata": {},
   "source": [
    "This function draws the provided text string starting at the org coordinate (upper-left\n",
    "corner if bottomLeftOrigin = False and lower-left corner otherwise) using the font\n",
    "type provided by fontFace and the fontScale factor. In connection with this example,\n",
    "you can see that the last provided parameter, which is lineType, takes the three different\n",
    "values available in OpenCV (cv2.LINE_4, cv2.LINE_8, and cv2.LINE_AA). In this way,\n",
    "you can see the difference better when plotting these types. Remember that cv2.LINE_AA\n",
    "gives much better quality (an anti-aliased line type), but it is slower to draw than the other\n",
    "two types. The key code to draw some text is given next. "
   ]
  },
  {
   "cell_type": "markdown",
   "id": "b5beb754",
   "metadata": {},
   "source": [
    "The full code for this example can\n",
    "be seen in the *text_drawing.py* script:"
   ]
  },
  {
   "cell_type": "code",
   "execution_count": null,
   "id": "1cb93963",
   "metadata": {},
   "outputs": [],
   "source": [
    "# We draw some text on the image:\n",
    "cv2.putText(image, 'Mastering OpenCV4 with Python', (10, 30),\n",
    "cv2.FONT_HERSHEY_SIMPLEX, 0.9, colors['red'], 2, cv2.LINE_4)\n",
    "cv2.putText(image, 'Mastering OpenCV4 with Python', (10, 70),\n",
    "cv2.FONT_HERSHEY_SIMPLEX, 0.9, colors['red'], 2, cv2.LINE_8)\n",
    "cv2.putText(image, 'Mastering OpenCV4 with Python', (10, 110),\n",
    "cv2.FONT_HERSHEY_SIMPLEX, 0.9, colors['red'], 2, cv2.LINE_AA)\n",
    "# Show image:\n",
    "show_with_matplotlib(image, 'cv2.putText()')"
   ]
  },
  {
   "cell_type": "markdown",
   "id": "bfea8daf",
   "metadata": {},
   "source": [
    "### Using all OpenCV text fonts\n"
   ]
  },
  {
   "cell_type": "markdown",
   "id": "70859817",
   "metadata": {},
   "source": [
    "All the available fonts in OpenCV are as follows:"
   ]
  },
  {
   "cell_type": "markdown",
   "id": "598446da",
   "metadata": {},
   "source": [
    "* FONT_HERSHEY_SIMPLEX = 0\n",
    "* FONT_HERSHEY_PLAIN = 1\n",
    "* FONT_HERSHEY_DUPLEX = 2\n",
    "* FONT_HERSHEY_COMPLEX = 3\n",
    "* FONT_HERSHEY_TRIPLEX = 4\n",
    "* FONT_HERSHEY_COMPLEX_SMALL = 5\n",
    "* FONT_HERSHEY_SCRIPT_SIMPLEX = 6\n",
    "* FONT_HERSHEY_SCRIPT_COMPLEX = 7\n"
   ]
  },
  {
   "cell_type": "markdown",
   "id": "9ea53b91",
   "metadata": {},
   "source": [
    "In connection with this, we have coded the *text_drawing_fonts.py* script, which plots\n",
    "all the available fonts. "
   ]
  },
  {
   "cell_type": "markdown",
   "id": "227268bf",
   "metadata": {},
   "source": [
    "As all these fonts are in the (0-7) range, we can iterate and call\n",
    "the cv2.putText() function, varying the color, fontFace, and org parameters. We have\n",
    "also plotted lowercase and uppercase versions of these fonts. The key piece of code to\n",
    "perform this functionality is as follows:\n"
   ]
  },
  {
   "cell_type": "code",
   "execution_count": null,
   "id": "757d287c",
   "metadata": {},
   "outputs": [],
   "source": [
    "position = (10, 30)\n",
    "for i in range(0, 8):\n",
    " cv2.putText(image, fonts[i], position, i, 1.1, colors[index_colors[i]],\n",
    "2, cv2.LINE_4)\n",
    " position = (position[0], position[1] + 40)\n",
    " cv2.putText(image, fonts[i].lower(), position, i, 1.1,\n",
    "colors[index_colors[i]], 2, cv2.LINE_4)\n",
    " position = (position[0], position[1] + 40)\n"
   ]
  },
  {
   "cell_type": "markdown",
   "id": "77de7e58",
   "metadata": {},
   "source": [
    "In the previous screenshot, you can see all available fonts in OpenCV (both in lowercase\n",
    "and uppercase versions). Therefore, you can use this screenshot as a reference for easily\n",
    "check what font you want to use in your project.\n"
   ]
  },
  {
   "cell_type": "markdown",
   "id": "9a759b70",
   "metadata": {},
   "source": [
    "### More functions related to text\n"
   ]
  },
  {
   "cell_type": "markdown",
   "id": "a05271d1",
   "metadata": {},
   "source": [
    "OpenCV provides more functions in connection with text drawing. It should be noted that\n",
    "these functions are not for drawing text, but they can be used to complement the\n",
    "aforementioned cv2.putText() function, and they are commented as follows. The first\n",
    "\n"
   ]
  },
  {
   "cell_type": "markdown",
   "id": "5d8dd054",
   "metadata": {},
   "source": [
    "function we are going to see is cv2.getFontScaleFromHeight(). The signature for this\n",
    "function is as follows:"
   ]
  },
  {
   "cell_type": "markdown",
   "id": "92d6df18",
   "metadata": {},
   "source": [
    "```retval = cv2.getFontScaleFromHeight(fontFace, pixelHeight, thickness=1)```\n"
   ]
  },
  {
   "cell_type": "markdown",
   "id": "c40f5cf5",
   "metadata": {},
   "source": [
    "This function returns the font scale (fontScale), which is a parameter to use in\n",
    "the cv2.putText() function, to achieve the provided height (in pixels) and taking into\n",
    "account both the font type (fontFace) and thickness.\n"
   ]
  },
  {
   "cell_type": "markdown",
   "id": "53bc1188",
   "metadata": {},
   "source": [
    "The second function is cv2.getTextSize():"
   ]
  },
  {
   "cell_type": "markdown",
   "id": "605b4447",
   "metadata": {},
   "source": [
    "```\n",
    "retval, baseLine = cv2.getTextSize(text, fontFace, fontScale, thickness)\n",
    "```"
   ]
  },
  {
   "cell_type": "markdown",
   "id": "90fb529a",
   "metadata": {},
   "source": [
    "This function can be used to get the text size (width and height) based on the following\n",
    "arguments—text to draw, the font type (fontFace), scale, and thickness. This\n",
    "function returns size and baseLine, which corresponds to the y coordinate of the baseline\n",
    "relative to the bottom of the text. The next piece of code shows you the key aspects to see\n",
    "this functionality. "
   ]
  },
  {
   "cell_type": "markdown",
   "id": "1b251938",
   "metadata": {},
   "source": [
    "The full code is available in\n",
    "the text_drawing_bounding_box.py script:"
   ]
  },
  {
   "cell_type": "code",
   "execution_count": null,
   "id": "cfc11782",
   "metadata": {},
   "outputs": [],
   "source": [
    "# assign parameters to use in the drawing functions\n",
    "font = cv2.FONT_HERSHEY_SIMPLEX\n",
    "font_scale = 2.5\n",
    "thickness = 5\n",
    "text = 'abcdefghijklmnopqrstuvwxyz'\n",
    "circle_radius = 10\n",
    "# We get the size of the text\n",
    "ret, baseline = cv2.getTextSize(text, font, font_scale, thickness)\n",
    "# We get the text width and text height from ret\n",
    "text_width, text_height = ret\n",
    "# We center the text in the image\n",
    "text_x = int(round((image.shape[1] - text_width) / 2))\n",
    "text_y = int(round((image.shape[0] + text_height) / 2))\n",
    "# Draw this point for reference:\n",
    "cv2.circle(image, (text_x, text_y), circle_radius, colors['green'], -1)\n",
    "# Draw the rectangle (bounding box of the text)\n",
    "cv2.rectangle(image, (text_x, text_y + baseline), (text_x + text_width -\n",
    "thickness, text_y - text_height),\n",
    " colors['blue'], thickness)\n",
    "# Draw the circles defining the rectangle\n",
    "cv2.circle(image, (text_x, text_y + baseline), circle_radius,\n",
    "colors['red'], -1)\n",
    "cv2.circle(image, (text_x + text_width - thickness, text_y - text_height),\n",
    "circle_radius, colors['cyan'], -1)\n",
    "# Draw the baseline line\n",
    "cv2.line(image, (text_x, text_y + int(round(thickness/2))), (text_x +\n",
    "text_width - thickness, text_y +\n",
    "int(round(thickness/2))), colors['yellow'], thickness)\n",
    "# Write the text centered in the image\n",
    "cv2.putText(image, text, (text_x, text_y), font, font_scale,\n",
    "colors['magenta'], thickness)"
   ]
  },
  {
   "cell_type": "markdown",
   "id": "44b828d5",
   "metadata": {},
   "source": [
    "Pay attention to how the three little points (red, cyan, and green) are drawn and also to\n",
    "how the yellow baseline is shown."
   ]
  },
  {
   "cell_type": "markdown",
   "id": "8b440788",
   "metadata": {},
   "source": [
    "## Dynamic drawing with mouse events\n",
    "*****"
   ]
  },
  {
   "cell_type": "markdown",
   "id": "489e6f6d",
   "metadata": {},
   "source": [
    "In this section, you will learn how to perform dynamic drawing using mouse events. We\n",
    "are going to see some examples in increasing order of complexity.\n"
   ]
  },
  {
   "cell_type": "markdown",
   "id": "97e16c37",
   "metadata": {},
   "source": [
    "### Drawing dynamic shapes"
   ]
  },
  {
   "cell_type": "markdown",
   "id": "0c1d4fe6",
   "metadata": {},
   "source": [
    "Th next example gives you an introduction into how to handle mouse events with\n",
    "OpenCV. The cv2.setMouseCallback() function performs this functionality. The\n",
    "signature for this method is as follows:"
   ]
  },
  {
   "cell_type": "markdown",
   "id": "5718eb24",
   "metadata": {},
   "source": [
    "```cv2.setMouseCallback(windowName, onMouse, param=None)```\n"
   ]
  },
  {
   "cell_type": "markdown",
   "id": "d8b680fa",
   "metadata": {},
   "source": [
    "This function establishes the mouse handler for the window named windowName.\n",
    "The onMouse function is the callback function, which is called when a mouse event is\n",
    "performed (for example, double-click, left-button down, left-button up, among others). The\n",
    "optional param parameter is used to pass additional information to the callback function. "
   ]
  },
  {
   "cell_type": "markdown",
   "id": "9f0b0db0",
   "metadata": {},
   "source": [
    "So the first step is to create the callback function:"
   ]
  },
  {
   "cell_type": "code",
   "execution_count": null,
   "id": "6524d1d5",
   "metadata": {},
   "outputs": [],
   "source": [
    "# This is the mouse callback function:\n",
    "def draw_circle(event, x, y, flags, param):\n",
    " if event == cv2.EVENT_LBUTTONDBLCLK:\n",
    " print(\"event: EVENT_LBUTTONDBLCLK\")\n",
    " cv2.circle(image, (x, y), 10, colors['magenta'], -1)\n",
    " if event == cv2.EVENT_MOUSEMOVE:\n",
    " print(\"event: EVENT_MOUSEMOVE\")\n",
    " if event == cv2.EVENT_LBUTTONUP:\n",
    " print(\"event: EVENT_LBUTTONUP\")\n",
    " if event == cv2.EVENT_LBUTTONDOWN:\n",
    " print(\"event: EVENT_LBUTTONDOWN\")"
   ]
  },
  {
   "cell_type": "markdown",
   "id": "a2ed8b97",
   "metadata": {},
   "source": [
    "The draw_circle() function receives the specific event and the coordinates (x, y) for every\n",
    "mouse event. In this case, when a left double-click (cv2.EVENT_LBUTTONDBLCLK) is\n",
    "performed, we draw a circle in the corresponding (x, y) coordinates on the event.\n"
   ]
  },
  {
   "cell_type": "markdown",
   "id": "2aaa2fc0",
   "metadata": {},
   "source": [
    "Additionally, we have also printed some messages in order to see other produced events,\n",
    "but we do not use them to perform any additional actions"
   ]
  },
  {
   "cell_type": "markdown",
   "id": "3be2384c",
   "metadata": {},
   "source": [
    "The next step is to create a named window. In this case, we named it Image mouse. This\n",
    "named window is where the mouse callback function will be associated with:"
   ]
  },
  {
   "cell_type": "code",
   "execution_count": null,
   "id": "5dc81396",
   "metadata": {},
   "outputs": [],
   "source": [
    "# We create a named window where the mouse callback will be established\n",
    "cv2.namedWindow('Image mouse')\n"
   ]
  },
  {
   "cell_type": "markdown",
   "id": "a6cedd36",
   "metadata": {},
   "source": [
    "And finally, we set (or activate) the mouse callback function to the function we created\n",
    "before:\n"
   ]
  },
  {
   "cell_type": "code",
   "execution_count": null,
   "id": "331d58d5",
   "metadata": {},
   "outputs": [],
   "source": [
    "# We set the mouse callback function to 'draw_circle'\n",
    "cv2.setMouseCallback('Image mouse', draw_circle)\n"
   ]
  },
  {
   "cell_type": "markdown",
   "id": "4034ec39",
   "metadata": {},
   "source": [
    "In summary, when a left double-click is performed, a filled magenta circle is drawn\n",
    "centered at the (x, y) position of the performed double-click. The full code for this example\n",
    "can be seen in the mouse_drawing.py script"
   ]
  },
  {
   "cell_type": "markdown",
   "id": "1646bb9d",
   "metadata": {},
   "source": [
    "* ### Drawing rectangles"
   ]
  },
  {
   "cell_type": "markdown",
   "id": "d6191c4a",
   "metadata": {},
   "source": [
    "### Drawing both text and shapes"
   ]
  },
  {
   "cell_type": "markdown",
   "id": "25f012f2",
   "metadata": {},
   "source": [
    "In this example, we are combining both mouse events and drawing text. In this sense, some\n",
    "text is rendered to show how to use the mouse events to perform specific actions. To better\n",
    "understand this example, in the next screenshot you can see the rendered text:"
   ]
  },
  {
   "cell_type": "markdown",
   "id": "cee90339",
   "metadata": {},
   "source": [
    "You can do the following:\n",
    "* Add a circle using the double left-click\n",
    "* Delete the last added circle using a simple left-click\n",
    "* Delete all circles using the double right-click"
   ]
  },
  {
   "cell_type": "markdown",
   "id": "3b9d30c6",
   "metadata": {},
   "source": [
    "To perform this functionality, we create a list called circles, where we maintain the\n",
    "current circles selected by the user. Additionally, we also create a backup image with the\n",
    "rendered text. When a mouse event is produced, we add or delete the circles from\n",
    "the circles list. Afterward, when drawing, we draw only the current circles from the list.\n",
    "So, for example, when the user performs a simple right-click, the last added circle is deleted\n",
    "from the list."
   ]
  },
  {
   "cell_type": "markdown",
   "id": "d1e9f2e5",
   "metadata": {},
   "source": [
    "The full code is provided in\n",
    "*the mouse_drawing_circles_and_text.py* script."
   ]
  },
  {
   "cell_type": "markdown",
   "id": "682dbe31",
   "metadata": {},
   "source": [
    "### Event handling with Matplotlib\n"
   ]
  },
  {
   "cell_type": "markdown",
   "id": "2b7506aa",
   "metadata": {},
   "source": [
    "You can see in the previous example that we have not used Matplotlib to show the image.\n",
    "This is because Matplotlib can also deal with event handling and picking. Therefore, you\n",
    "can use Matplotlib capabilities to capture mouse events. There are more events that we can\n",
    "connect with Matplotlib (https://matplotlib.org/users/event_handling.html). For\n",
    "example, in connection with the mouse, we can connect with the following\n",
    "* events—button_press_event\n",
    "* button_release_event\n",
    "* motion_notify_event,\n",
    "* scroll_event. "
   ]
  },
  {
   "cell_type": "markdown",
   "id": "011e73b3",
   "metadata": {},
   "source": [
    "We are going to show a simple example in order to render a circle when a mouse click is\n",
    "performed connecting with the button_press_event event:"
   ]
  },
  {
   "cell_type": "code",
   "execution_count": null,
   "id": "75184708",
   "metadata": {},
   "outputs": [],
   "source": [
    "# 'button_press_event' is a MouseEvent where a mouse botton is click\n",
    "(pressed)\n",
    "# When this event happens the function 'click_mouse_event' is called:\n",
    "figure.canvas.mpl_connect('button_press_event', click_mouse_event)\n"
   ]
  },
  {
   "cell_type": "markdown",
   "id": "0ed0cb3f",
   "metadata": {},
   "source": [
    "We have also to define the event listener for the button_press_event event:"
   ]
  },
  {
   "cell_type": "code",
   "execution_count": null,
   "id": "fec1a53c",
   "metadata": {},
   "outputs": [],
   "source": [
    "# We define the event listener for the 'button_press_event':\n",
    "def click_mouse_event(event):\n",
    " # (event.xdata, event.ydata) contains the float coordinates of the\n",
    "mouse click event:\n",
    " cv2.circle(image, (int(round(event.xdata)), int(round(event.ydata))),\n",
    "30, colors['blue'], cv2.FILLED)\n",
    " # Call 'update_image()' method to update the Figure:\n",
    " update_img_with_matplotlib()\n"
   ]
  },
  {
   "cell_type": "markdown",
   "id": "6094d10c",
   "metadata": {},
   "source": [
    "Therefore, when a mouse click is performed, a blue circle is shown. It should be noted that\n",
    "we have coded the update_img_with_matplotlib() function. In the previous examples,\n",
    "we have used show_with_matplotlib(). The show_with_matplotlib() function is \n",
    "used to display an image using Matplotlib, while update_img_with_matplotlib() is\n",
    "used to update an existing figure. "
   ]
  },
  {
   "cell_type": "markdown",
   "id": "922a8efd",
   "metadata": {},
   "source": [
    "The full code for this example can be seen in the\n",
    "*matplotlib_mouse_events.py* script."
   ]
  },
  {
   "cell_type": "markdown",
   "id": "89843006",
   "metadata": {},
   "source": [
    "## Advanced drawing\n",
    "*****"
   ]
  },
  {
   "cell_type": "markdown",
   "id": "90f57252",
   "metadata": {},
   "source": [
    "In this section, we are going to see how to combine some of the aforementioned functions to\n",
    "draw basic shapes in OpenCV (for example, lines, circles, rectangles, and text, among\n",
    "others) to render a more advanced drawing. To put all these pieces together, we have built\n",
    "an analog clock to show you the current time (hour, minutes, and seconds). For this, two\n",
    "scripts are coded:"
   ]
  },
  {
   "cell_type": "markdown",
   "id": "8ad57fa0",
   "metadata": {},
   "source": [
    "* *analog_clock_values.py*\n",
    "* *analog_clock_opencv.py*\n"
   ]
  },
  {
   "cell_type": "markdown",
   "id": "99723229",
   "metadata": {},
   "source": [
    "The analog_clock_opencv.py script draws an analog clock, using cv.line(),\n",
    "cv.circle(), cv.rectangle(), and cv2.putText(). In this script, we first draw the\n",
    "static drawing. In this sense, you can see that there are two arrays containing\n",
    "fixed coordinates:"
   ]
  },
  {
   "cell_type": "code",
   "execution_count": null,
   "id": "1e219389",
   "metadata": {},
   "outputs": [],
   "source": [
    "hours_orig = np.array(\n",
    " [(620, 320), (580, 470), (470, 580), (320, 620), (170, 580), (60, 470),\n",
    "(20, 320), (60, 170), (169, 61), (319, 20),\n",
    " (469, 60), (579, 169)])\n",
    "\n",
    "hours_dest = np.array(\n",
    " [(600, 320), (563, 460), (460, 562), (320, 600), (180, 563), (78, 460),\n",
    "(40, 320), (77, 180), (179, 78), (319, 40),\n",
    " (459, 77), (562, 179)])\n"
   ]
  },
  {
   "cell_type": "markdown",
   "id": "267857eb",
   "metadata": {},
   "source": [
    "These arrays are necessary to render the hour markings, as they define the origin and\n",
    "destiny of the lines for every hour of the clock. So, these markings are drawn as follows:"
   ]
  },
  {
   "cell_type": "code",
   "execution_count": null,
   "id": "508bfac0",
   "metadata": {},
   "outputs": [],
   "source": [
    "for i in range(0, 12):\n",
    " cv2.line(image, array_to_tuple(hours_orig[i]),\n",
    "array_to_tuple(hours_dest[i]), colors['black'], 3)"
   ]
  },
  {
   "cell_type": "markdown",
   "id": "d33c2c48",
   "metadata": {},
   "source": [
    "Additionally, a big circle is drawn, corresponding to the shape of the analog clock:"
   ]
  },
  {
   "cell_type": "code",
   "execution_count": null,
   "id": "4fc30218",
   "metadata": {},
   "outputs": [],
   "source": [
    "cv2.circle(image, (320, 320), 310, colors['dark_gray'], 8)\n"
   ]
  },
  {
   "cell_type": "markdown",
   "id": "80b49366",
   "metadata": {},
   "source": [
    "Finally, we draw the rectangle containing the Mastering OpenCV 4 with Python text,\n",
    "which will be rendered inside the clock:"
   ]
  },
  {
   "cell_type": "code",
   "execution_count": null,
   "id": "7eeca615",
   "metadata": {},
   "outputs": [],
   "source": [
    "cv2.rectangle(image, (150, 175), (490, 270), colors['dark_gray'], -1)\n",
    "cv2.putText(image, \"Mastering OpenCV 4\", (150, 200), 1, 2,\n",
    "colors['light_gray'], 1, cv2.LINE_AA)\n",
    "cv2.putText(image, \"with Python\", (210, 250), 1, 2, colors['light_gray'],\n",
    "1, cv2.LINE_AA)\n"
   ]
  },
  {
   "cell_type": "markdown",
   "id": "17b1b96a",
   "metadata": {},
   "source": [
    "Once this static information is drawn in the image, we copy it to\n",
    "the image_original image:"
   ]
  },
  {
   "cell_type": "code",
   "execution_count": null,
   "id": "d41bc978",
   "metadata": {},
   "outputs": [],
   "source": [
    "image_original = image.copy()"
   ]
  },
  {
   "cell_type": "markdown",
   "id": "2f17691a",
   "metadata": {},
   "source": [
    "To draw the dynamic information, several steps are performed:"
   ]
  },
  {
   "cell_type": "markdown",
   "id": "29ef620e",
   "metadata": {},
   "source": [
    "1. Get the hour, minute, and second from the current time:"
   ]
  },
  {
   "cell_type": "code",
   "execution_count": null,
   "id": "202fbea0",
   "metadata": {},
   "outputs": [],
   "source": [
    "# Get current date:\n",
    "date_time_now = datetime.datetime.now()\n",
    "# Get current time from the date:\n",
    "time_now = date_time_now.time()\n",
    "# Get current hour-minute-second from the time:\n",
    "hour = math.fmod(time_now.hour, 12)\n",
    "minute = time_now.minute\n",
    "second = time_now.second"
   ]
  },
  {
   "cell_type": "markdown",
   "id": "a93486fe",
   "metadata": {},
   "source": [
    "2. Transform these values (hour, minute, and second) to angles:"
   ]
  },
  {
   "cell_type": "code",
   "execution_count": null,
   "id": "9bfa0eae",
   "metadata": {},
   "outputs": [],
   "source": [
    "# Get the hour, minute and second angles:\n",
    "second_angle = math.fmod(second * 6 + 270, 360)\n",
    "minute_angle = math.fmod(minute * 6 + 270, 360)\n",
    "hour_angle = math.fmod((hour*30) + (minute/2) + 270, 360)\n"
   ]
  },
  {
   "cell_type": "markdown",
   "id": "b34d9534",
   "metadata": {},
   "source": [
    "3. Draw the lines corresponding to the hour, minute, and second needles:\n"
   ]
  },
  {
   "cell_type": "code",
   "execution_count": null,
   "id": "762c1631",
   "metadata": {},
   "outputs": [],
   "source": [
    "# Draw the lines corresponding to the hour, minute and second needles:\n",
    "second_x = round(320 + 310 * math.cos(second_angle * 3.14 / 180))\n",
    "second_y = round(320 + 310 * math.sin(second_angle * 3.14 / 180))\n",
    "cv2.line(image, (320, 320), (second_x, second_y), colors['blue'], 2)\n",
    "minute_x = round(320 + 260 * math.cos(minute_angle * 3.14 / 180))\n",
    "minute_y = round(320 + 260 * math.sin(minute_angle * 3.14 / 180))\n",
    "cv2.line(image, (320, 320), (minute_x, minute_y), colors['blue'], 8)\n",
    "hour_x = round(320 + 220 * math.cos(hour_angle * 3.14 / 180))\n",
    "hour_y = round(320 + 220 * math.sin(hour_angle * 3.14 / 180))\n",
    "cv2.line(image, (320, 320), (hour_x, hour_y), colors['blue'], 10)\n"
   ]
  },
  {
   "cell_type": "markdown",
   "id": "b20c9392",
   "metadata": {},
   "source": [
    "4. Finally, a small circle is drawn, corresponding to the point where the three\n",
    "needles join:"
   ]
  },
  {
   "cell_type": "code",
   "execution_count": null,
   "id": "de817b73",
   "metadata": {},
   "outputs": [],
   "source": [
    "cv2.circle(image, (320, 320), 10, colors['dark_gray'], -1)"
   ]
  },
  {
   "cell_type": "markdown",
   "id": "9546800b",
   "metadata": {},
   "source": [
    "The script analog_clock_values.py script calculates the fixed coordinates for both\n",
    "the hours_orig and hours_dest arrays. To calculate the (x, y) coordinates for the hour\n",
    "markings, we use the parametric equation of a circle, as can be seen in the next screenshot:\n"
   ]
  },
  {
   "cell_type": "markdown",
   "id": "c9a35da7",
   "metadata": {},
   "source": [
    "We have followed the equation in the previous screenshot to calculate the coordinates for\n",
    "the 12 points P(x, y) at every 30 degrees and starting at 0 degrees (0, 30, 60, 90, 120, 150,\n",
    "180, 210, 240, 270, 300, and 330) with two different radii. This way, we are able to define\n",
    "the coordinates for the lines defining the hour markings. The code to calculate these\n",
    "coordinates is as follows:\n"
   ]
  },
  {
   "cell_type": "code",
   "execution_count": null,
   "id": "6a4a0ab7",
   "metadata": {},
   "outputs": [],
   "source": [
    "radius = 300\n",
    "center = (320, 320)\n",
    "for x in (0, 30, 60, 90, 120, 150, 180, 210, 240, 270, 300, 330):\n",
    " x_coordinate = center[0] + radius * math.cos(x * 3.14/180)\n",
    " y_coordinate = center[1] + radius * math.sin(x * 3.14/180)\n",
    " print(\"x: {} y: {}\".format(round(x_coordinate), round(y_coordinate)))\n",
    "for x in (0, 30, 60, 90, 120, 150, 180, 210, 240, 270, 300, 330):\n",
    " x_coordinate = center[0] + (radius - 20) * math.cos(x * 3.14/180)\n",
    " y_coordinate = center[1] + (radius - 20) * math.sin(x * 3.14/180)\n",
    " print(\"x: {} y: {}\".format(round(x_coordinate), round(y_coordinate)))\n"
   ]
  },
  {
   "cell_type": "markdown",
   "id": "b1146dd2",
   "metadata": {},
   "source": [
    "The full code for this script can be seen in analog_clock_values.py. It should be noted\n",
    "that we could have included the code to calculate these coordinates inside the other script,\n",
    "but it can be a good exercise for you to do it."
   ]
  },
  {
   "cell_type": "markdown",
   "id": "d59abcf7-4156-462d-8a0f-093e2607f54b",
   "metadata": {},
   "source": [
    "## Summary\n",
    "*****\n",
    "*****"
   ]
  },
  {
   "cell_type": "markdown",
   "id": "12b12e0c",
   "metadata": {},
   "source": [
    "In this chapter, we reviewed the functionality OpenCV offers in connection with drawing\n",
    "shapes and text. In connection with shapes, we have seen how to draw very basic shapes\n",
    "(lines, rectangles, and circles), and also more advanced shapes (clip lines, arrows,\n",
    "ellipses, and polygons). In connection with text, we have seen how to draw it and how to\n",
    "render all the available fonts in the OpenCV library. Additionally, we have also covered\n",
    "how to capture mouse events and use them to perform specific actions (for example,\n",
    "drawing a point associated with the (x, y) coordinates of the performed mouse event).\n",
    "Finally, we rendered an analog clock, trying to summarize all the previous concepts of this\n",
    "chapter.\n",
    "\n",
    "In the next chapter, we are going to see the main concepts concerning image processing\n",
    "techniques. We will also tackle how to perform basic image transformations (for example,\n",
    "translation, rotation, resizing, flipping, and cropping). Another key aspect is how to\n",
    "perform basic arithmetic with images such as bitwise operations (AND, OR, XOR, and\n",
    "NOT). Finally, we are going to cover an introduction to the main color spaces and color\n",
    "maps."
   ]
  }
 ],
 "metadata": {
  "kernelspec": {
   "display_name": "Python 3 (ipykernel)",
   "language": "python",
   "name": "python3"
  },
  "language_info": {
   "codemirror_mode": {
    "name": "ipython",
    "version": 3
   },
   "file_extension": ".py",
   "mimetype": "text/x-python",
   "name": "python",
   "nbconvert_exporter": "python",
   "pygments_lexer": "ipython3",
   "version": "3.12.2"
  }
 },
 "nbformat": 4,
 "nbformat_minor": 5
}
